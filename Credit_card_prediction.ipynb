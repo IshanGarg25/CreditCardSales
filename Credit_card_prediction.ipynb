{
  "nbformat": 4,
  "nbformat_minor": 0,
  "metadata": {
    "colab": {
      "name": "Credit_card_prediction_Self_2.ipynb",
      "provenance": [],
      "collapsed_sections": []
    },
    "kernelspec": {
      "display_name": "Python 3",
      "language": "python",
      "name": "python3"
    },
    "language_info": {
      "codemirror_mode": {
        "name": "ipython",
        "version": 3
      },
      "file_extension": ".py",
      "mimetype": "text/x-python",
      "name": "python",
      "nbconvert_exporter": "python",
      "pygments_lexer": "ipython3",
      "version": "3.7.3"
    }
  },
  "cells": [
    {
      "cell_type": "code",
      "metadata": {
        "colab_type": "code",
        "id": "nReOsvPLymtD",
        "colab": {}
      },
      "source": [
        "import pandas as pd\n",
        "import numpy as np\n",
        "import pandas_profiling\n",
        "import seaborn as sns\n",
        "import scipy.stats as stats\n",
        "from sklearn.linear_model import LinearRegression\n",
        "from sklearn.model_selection import train_test_split\n",
        "from sklearn.feature_selection import SelectKBest\n",
        "from sklearn.feature_selection import RFE\n",
        "from sklearn import metrics\n",
        "import matplotlib.pyplot as plt\n",
        "%matplotlib inline\n",
        "\n",
        "pd.set_option('display.max_rows', 500)\n",
        "pd.set_option('display.max_columns', 500)\n",
        "pd.set_option('display.width', 1000)"
      ],
      "execution_count": null,
      "outputs": []
    },
    {
      "cell_type": "code",
      "metadata": {
        "colab_type": "code",
        "id": "QsN98iWNzJdq",
        "colab": {
          "resources": {
            "http://localhost:8080/nbextensions/google.colab/files.js": {
              "data": "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",
              "ok": true,
              "headers": [
                [
                  "content-type",
                  "application/javascript"
                ]
              ],
              "status": 200,
              "status_text": ""
            }
          },
          "base_uri": "https://localhost:8080/",
          "height": 72
        },
        "outputId": "7fb647c6-a194-42f5-c3a6-f208d1eb6cd6"
      },
      "source": [
        "from google.colab import files\n",
        "uploaded = files.upload()"
      ],
      "execution_count": null,
      "outputs": [
        {
          "output_type": "display_data",
          "data": {
            "text/html": [
              "\n",
              "     <input type=\"file\" id=\"files-e8b6c425-f462-44a9-9641-e7527bf7f276\" name=\"files[]\" multiple disabled\n",
              "        style=\"border:none\" />\n",
              "     <output id=\"result-e8b6c425-f462-44a9-9641-e7527bf7f276\">\n",
              "      Upload widget is only available when the cell has been executed in the\n",
              "      current browser session. Please rerun this cell to enable.\n",
              "      </output>\n",
              "      <script src=\"/nbextensions/google.colab/files.js\"></script> "
            ],
            "text/plain": [
              "<IPython.core.display.HTML object>"
            ]
          },
          "metadata": {
            "tags": []
          }
        },
        {
          "output_type": "stream",
          "text": [
            "Saving Data Set.xlsx to Data Set.xlsx\n"
          ],
          "name": "stdout"
        }
      ]
    },
    {
      "cell_type": "code",
      "metadata": {
        "colab_type": "code",
        "id": "rIMSHVXDymtK",
        "colab": {}
      },
      "source": [
        "# reading the data from the file\n",
        "import io\n",
        "cc = pd.read_excel(io.BytesIO(uploaded['Data Set.xlsx']))"
      ],
      "execution_count": null,
      "outputs": []
    },
    {
      "cell_type": "code",
      "metadata": {
        "id": "X30XL8VRVYT5",
        "colab_type": "code",
        "colab": {}
      },
      "source": [
        "cc = pd.read_excel('Data Set.xlsx')"
      ],
      "execution_count": null,
      "outputs": []
    },
    {
      "cell_type": "code",
      "metadata": {
        "colab_type": "code",
        "id": "ZyXYjVuhymtP",
        "colab": {},
        "outputId": "dd4d229d-6c41-4f8b-ead2-118a11d4924b"
      },
      "source": [
        "# We will let the categorical data remain in as integer data type for ML libraries do not take categorical variables as input.\n",
        "cc.info(max_cols=131)"
      ],
      "execution_count": null,
      "outputs": [
        {
          "output_type": "stream",
          "text": [
            "<class 'pandas.core.frame.DataFrame'>\n",
            "RangeIndex: 5000 entries, 0 to 4999\n",
            "Data columns (total 130 columns):\n",
            "custid               5000 non-null object\n",
            "region               5000 non-null int64\n",
            "townsize             4998 non-null float64\n",
            "gender               5000 non-null int64\n",
            "age                  5000 non-null int64\n",
            "agecat               5000 non-null int64\n",
            "birthmonth           5000 non-null object\n",
            "ed                   5000 non-null int64\n",
            "edcat                5000 non-null int64\n",
            "jobcat               5000 non-null int64\n",
            "union                5000 non-null int64\n",
            "employ               5000 non-null int64\n",
            "empcat               5000 non-null int64\n",
            "retire               5000 non-null int64\n",
            "income               5000 non-null int64\n",
            "lninc                5000 non-null float64\n",
            "inccat               5000 non-null int64\n",
            "debtinc              5000 non-null float64\n",
            "creddebt             5000 non-null float64\n",
            "lncreddebt           4999 non-null float64\n",
            "othdebt              5000 non-null float64\n",
            "lnothdebt            4999 non-null float64\n",
            "default              5000 non-null int64\n",
            "jobsat               5000 non-null int64\n",
            "marital              5000 non-null int64\n",
            "spoused              5000 non-null int64\n",
            "spousedcat           5000 non-null int64\n",
            "reside               5000 non-null int64\n",
            "pets                 5000 non-null int64\n",
            "pets_cats            5000 non-null int64\n",
            "pets_dogs            5000 non-null int64\n",
            "pets_birds           5000 non-null int64\n",
            "pets_reptiles        5000 non-null int64\n",
            "pets_small           5000 non-null int64\n",
            "pets_saltfish        5000 non-null int64\n",
            "pets_freshfish       5000 non-null int64\n",
            "homeown              5000 non-null int64\n",
            "hometype             5000 non-null int64\n",
            "address              5000 non-null int64\n",
            "addresscat           5000 non-null int64\n",
            "cars                 5000 non-null int64\n",
            "carown               5000 non-null int64\n",
            "cartype              5000 non-null int64\n",
            "carvalue             5000 non-null float64\n",
            "carcatvalue          5000 non-null int64\n",
            "carbought            5000 non-null int64\n",
            "carbuy               5000 non-null int64\n",
            "commute              5000 non-null int64\n",
            "commutecat           5000 non-null int64\n",
            "commutetime          4998 non-null float64\n",
            "commutecar           5000 non-null int64\n",
            "commutemotorcycle    5000 non-null int64\n",
            "commutecarpool       5000 non-null int64\n",
            "commutebus           5000 non-null int64\n",
            "commuterail          5000 non-null int64\n",
            "commutepublic        5000 non-null int64\n",
            "commutebike          5000 non-null int64\n",
            "commutewalk          5000 non-null int64\n",
            "commutenonmotor      5000 non-null int64\n",
            "telecommute          5000 non-null int64\n",
            "reason               5000 non-null int64\n",
            "polview              5000 non-null int64\n",
            "polparty             5000 non-null int64\n",
            "polcontrib           5000 non-null int64\n",
            "vote                 5000 non-null int64\n",
            "card                 5000 non-null int64\n",
            "cardtype             5000 non-null int64\n",
            "cardbenefit          5000 non-null int64\n",
            "cardfee              5000 non-null int64\n",
            "cardtenure           5000 non-null int64\n",
            "cardtenurecat        5000 non-null int64\n",
            "card2                5000 non-null int64\n",
            "card2type            5000 non-null int64\n",
            "card2benefit         5000 non-null int64\n",
            "card2fee             5000 non-null int64\n",
            "card2tenure          5000 non-null int64\n",
            "card2tenurecat       5000 non-null int64\n",
            "cardspent            5000 non-null float64\n",
            "card2spent           5000 non-null float64\n",
            "active               5000 non-null int64\n",
            "bfast                5000 non-null int64\n",
            "tenure               5000 non-null int64\n",
            "churn                5000 non-null int64\n",
            "longmon              5000 non-null float64\n",
            "lnlongmon            5000 non-null float64\n",
            "longten              4997 non-null float64\n",
            "lnlongten            4997 non-null float64\n",
            "tollfree             5000 non-null int64\n",
            "tollmon              5000 non-null float64\n",
            "lntollmon            2378 non-null float64\n",
            "tollten              5000 non-null float64\n",
            "lntollten            2378 non-null float64\n",
            "equip                5000 non-null int64\n",
            "equipmon             5000 non-null float64\n",
            "lnequipmon           1704 non-null float64\n",
            "equipten             5000 non-null float64\n",
            "lnequipten           1704 non-null float64\n",
            "callcard             5000 non-null int64\n",
            "cardmon              5000 non-null float64\n",
            "lncardmon            3581 non-null float64\n",
            "cardten              4998 non-null float64\n",
            "lncardten            3578 non-null float64\n",
            "wireless             5000 non-null int64\n",
            "wiremon              5000 non-null float64\n",
            "lnwiremon            1344 non-null float64\n",
            "wireten              5000 non-null float64\n",
            "lnwireten            1344 non-null float64\n",
            "multline             5000 non-null int64\n",
            "voice                5000 non-null int64\n",
            "pager                5000 non-null int64\n",
            "internet             5000 non-null int64\n",
            "callid               5000 non-null int64\n",
            "callwait             5000 non-null int64\n",
            "forward              5000 non-null int64\n",
            "confer               5000 non-null int64\n",
            "ebill                5000 non-null int64\n",
            "owntv                5000 non-null int64\n",
            "hourstv              5000 non-null int64\n",
            "ownvcr               5000 non-null int64\n",
            "owndvd               5000 non-null int64\n",
            "owncd                5000 non-null int64\n",
            "ownpda               5000 non-null int64\n",
            "ownpc                5000 non-null int64\n",
            "ownipod              5000 non-null int64\n",
            "owngame              5000 non-null int64\n",
            "ownfax               5000 non-null int64\n",
            "news                 5000 non-null int64\n",
            "response_01          5000 non-null int64\n",
            "response_02          5000 non-null int64\n",
            "response_03          5000 non-null int64\n",
            "dtypes: float64(31), int64(97), object(2)\n",
            "memory usage: 5.0+ MB\n"
          ],
          "name": "stdout"
        }
      ]
    },
    {
      "cell_type": "code",
      "metadata": {
        "colab_type": "code",
        "id": "fE5WpU1iymtW",
        "colab": {}
      },
      "source": [
        "# Removing duplicate features such as log variables and categorical features having numerical features, and having no buisness significance\n",
        "# Removing commutecar, caommutewalk etc. all the dummy variables for the commute (we will creat our own dummies as and when required)\n",
        "cc.drop(['custid','birthmonth','lnwireten','lnwiremon','lntollten','lntollmon','lnothdebt','lnlongten',\n",
        "         'lnlongmon','lninc','lnequipten','lnequipmon','lncreddebt','lncardten','lncardmon','agecat','edcat',\n",
        "         'empcat','inccat','spousedcat','addresscat','commutecar','commutemotorcycle','commutecarpool','commutebus',\n",
        "         'commuterail','commutepublic','commutebike','commutewalk','commutenonmotor','telecommute','cardtenurecat',\n",
        "        'card2tenurecat','carcatvalue'], axis=1, inplace=True)\n"
      ],
      "execution_count": null,
      "outputs": []
    },
    {
      "cell_type": "code",
      "metadata": {
        "colab_type": "code",
        "id": "l8FUUqy2ymtd",
        "colab": {}
      },
      "source": [
        "# Creating total spend\n",
        "cc['Total_spend'] = cc.cardspent + cc.card2spent\n",
        "cc.drop(['cardspent','card2spent'], axis=1, inplace=True)"
      ],
      "execution_count": null,
      "outputs": []
    },
    {
      "cell_type": "code",
      "metadata": {
        "colab_type": "code",
        "id": "E9seIsjSymth",
        "colab": {},
        "outputId": "a94f9298-bc85-4cd7-ab2e-8dc0b7f9017a"
      },
      "source": [
        "# Distribution of target variable\n",
        "sns.distplot(cc.Total_spend)\n",
        "# It shows that it is having some skewnwess, implies we have to apply some transformations(log, box-cox, etc.)"
      ],
      "execution_count": null,
      "outputs": [
        {
          "output_type": "execute_result",
          "data": {
            "text/plain": [
              "<matplotlib.axes._subplots.AxesSubplot at 0x243b3c11588>"
            ]
          },
          "metadata": {
            "tags": []
          },
          "execution_count": 6
        },
        {
          "output_type": "display_data",
          "data": {
            "image/png": "[encoded data removed]",
            "text/plain": [
              "<Figure size 432x288 with 1 Axes>"
            ]
          },
          "metadata": {
            "tags": [],
            "needs_background": "light"
          }
        }
      ]
    },
    {
      "cell_type": "code",
      "metadata": {
        "colab_type": "code",
        "id": "JzoUAcm1ymtn",
        "colab": {},
        "outputId": "71ad8bcc-9ea8-40a8-b24b-63da332ecdd9"
      },
      "source": [
        "sns.distplot(np.log(cc.Total_spend + 1))\n",
        "# We can see that it is very close to a normal distribution"
      ],
      "execution_count": null,
      "outputs": [
        {
          "output_type": "execute_result",
          "data": {
            "text/plain": [
              "<matplotlib.axes._subplots.AxesSubplot at 0x243b3c20f88>"
            ]
          },
          "metadata": {
            "tags": []
          },
          "execution_count": 7
        },
        {
          "output_type": "display_data",
          "data": {
            "image/png": "[encoded data removed]",
            "text/plain": [
              "<Figure size 432x288 with 1 Axes>"
            ]
          },
          "metadata": {
            "tags": [],
            "needs_background": "light"
          }
        }
      ]
    },
    {
      "cell_type": "code",
      "metadata": {
        "colab_type": "code",
        "id": "oHb6T0dEymts",
        "colab": {}
      },
      "source": [
        "cc['ln_total_spend'] = np.log(cc.Total_spend + 1)\n",
        "cc.drop(['Total_spend'], axis=1, inplace=True)"
      ],
      "execution_count": null,
      "outputs": []
    },
    {
      "cell_type": "markdown",
      "metadata": {
        "colab_type": "text",
        "id": "Y3Mfhez0ymtx"
      },
      "source": [
        "### Missing value treatment"
      ]
    },
    {
      "cell_type": "code",
      "metadata": {
        "colab_type": "code",
        "id": "o-BbZHPiymty",
        "colab": {}
      },
      "source": [
        "#carbought, carcatvalue, carvalue, cartype, carown, spoused has -1 for the missing values\n",
        "# Replacing -1 with mode value\n",
        "for x in ['carbought','carown','cartype','townsize']:\n",
        "    cc[x] = np.where(cc[x]==-1, cc[x].mode(), cc[x])"
      ],
      "execution_count": null,
      "outputs": []
    },
    {
      "cell_type": "code",
      "metadata": {
        "colab_type": "code",
        "id": "0MUbbzkZymt2",
        "colab": {}
      },
      "source": [
        "#imputing carvalue and townsize with mean\n",
        "cc.cardten.fillna(cc.cardten.mean(), inplace=True)\n",
        "cc.longten.fillna(cc.longten.mean(), inplace=True)\n",
        "cc.carvalue = np.where(cc.carvalue==-1, cc.carvalue.mean(), cc.carvalue)"
      ],
      "execution_count": null,
      "outputs": []
    },
    {
      "cell_type": "code",
      "metadata": {
        "colab_type": "code",
        "id": "E6eaDtnTymt7",
        "colab": {}
      },
      "source": [
        "credit_card_cat = ['region','townsize','gender','jobcat','union','retire','default','jobsat',\n",
        "                  'marital','homeown','hometype','carown','cartype','carbought',\n",
        "                  'carbuy','commutecat','reason','polview','polparty',\n",
        "                  'polcontrib','vote','card','cardtype','cardbenefit','cardfee','card2','card2type',\n",
        "                  'card2benefit','card2fee','active','bfast','churn','tollfree','equip','callcard',\n",
        "                  'wireless','multline','voice','pager','internet','callid','callwait','forward','confer','ebill','owntv',\n",
        "                  'ownvcr','owndvd','owncd','ownpda','ownpc','ownipod','owngame','ownfax','news','response_01','response_02',\n",
        "                  'response_03','pets_birds','pets_cats','pets_dogs','pets_freshfish','pets_reptiles',\n",
        "                  'pets_saltfish','pets_small','commutecar','commutemotorcycle','commutecarpool','commutebus',\n",
        "         'commuterail','commutepublic','commutebike','commutewalk','commutenonmotor','telecommute']"
      ],
      "execution_count": null,
      "outputs": []
    },
    {
      "cell_type": "code",
      "metadata": {
        "colab_type": "code",
        "id": "F5O3dadRymt_",
        "colab": {}
      },
      "source": [
        "annova=pd.DataFrame()\n",
        "for x in credit_card_cat:\n",
        "    if cc[x].nunique()==5:\n",
        "        F,y = stats.f_oneway(cc[cc[x]==cc[x].unique()[0]].ln_total_spend, cc[cc[x]==cc[x].unique()[1]].ln_total_spend,\n",
        "                                  cc[cc[x]==cc[x].unique()[2]].ln_total_spend,cc[cc[x]==cc[x].unique()[3]].ln_total_spend,\n",
        "                                  cc[cc[x]==cc[x].unique()[4]].ln_total_spend)\n",
        "    if cc[x].nunique()==6:\n",
        "        F,y = stats.f_oneway(cc[cc[x]==cc[x].unique()[0]].ln_total_spend, cc[cc[x]==cc[x].unique()[1]].ln_total_spend,\n",
        "                                  cc[cc[x]==cc[x].unique()[2]].ln_total_spend,cc[cc[x]==cc[x].unique()[3]].ln_total_spend,\n",
        "                                  cc[cc[x]==cc[x].unique()[4]].ln_total_spend, cc[cc[x]==cc[x].unique()[5]].ln_total_spend)\n",
        "    if cc[x].nunique()==3:\n",
        "        F,y = stats.f_oneway(cc[cc[x]==cc[x].unique()[0]].ln_total_spend, cc[cc[x]==cc[x].unique()[1]].ln_total_spend,\n",
        "                                  cc[cc[x]==cc[x].unique()[2]].ln_total_spend)\n",
        "    if cc[x].nunique()==4:\n",
        "        F,y = stats.f_oneway(cc[cc[x]==cc[x].unique()[0]].ln_total_spend, cc[cc[x]==cc[x].unique()[1]].ln_total_spend,\n",
        "                                  cc[cc[x]==cc[x].unique()[2]].ln_total_spend,cc[cc[x]==cc[x].unique()[3]].ln_total_spend)\n",
        "    if cc[x].nunique()==2:\n",
        "        F,y = stats.f_oneway(cc[cc[x]==cc[x].unique()[0]].ln_total_spend, cc[cc[x]==cc[x].unique()[1]].ln_total_spend)\n",
        "    if cc[x].nunique()==10:\n",
        "         F,y = stats.f_oneway(cc[cc[x]==cc[x].unique()[0]].ln_total_spend, cc[cc[x]==cc[x].unique()[1]].ln_total_spend,\n",
        "                              cc[cc[x]==cc[x].unique()[2]].ln_total_spend,cc[cc[x]==cc[x].unique()[3]].ln_total_spend,\n",
        "                              cc[cc[x]==cc[x].unique()[4]].ln_total_spend, cc[cc[x]==cc[x].unique()[5]].ln_total_spend,\n",
        "                             cc[cc[x]==cc[x].unique()[6]].ln_total_spend,cc[cc[x]==cc[x].unique()[6]].ln_total_spend,\n",
        "                              cc[cc[x]==cc[x].unique()[8]].ln_total_spend,cc[cc[x]==cc[x].unique()[9]].ln_total_spend)\n",
        "        \n",
        "    d = pd.DataFrame({'Feature': [x] , 'F_value': [F],'P_value':[y] })\n",
        "    annova=annova.append(d)"
      ],
      "execution_count": null,
      "outputs": []
    },
    {
      "cell_type": "code",
      "metadata": {
        "colab_type": "code",
        "id": "s6I9KTgFymuE",
        "colab": {},
        "outputId": "61f5573d-6df5-4698-992d-f1097cd9b603"
      },
      "source": [
        "len(credit_card_cat)"
      ],
      "execution_count": null,
      "outputs": [
        {
          "output_type": "execute_result",
          "data": {
            "text/plain": [
              "75"
            ]
          },
          "metadata": {
            "tags": []
          },
          "execution_count": 12
        }
      ]
    },
    {
      "cell_type": "code",
      "metadata": {
        "colab_type": "code",
        "id": "d8tq5GIOymuK",
        "colab": {}
      },
      "source": [
        "annova.to_csv('annova2.csv')"
      ],
      "execution_count": null,
      "outputs": []
    },
    {
      "cell_type": "code",
      "metadata": {
        "colab_type": "code",
        "id": "el8INGCzymuO",
        "colab": {}
      },
      "source": [
        "credit_card_cat_fin = ['card','retire','card2','owndvd','carown','ownvcr','reason','polview','owncd','owntv','gender',\n",
        "                       'wireless','jobcat','ownpda','homeown','internet','ownfax','response_03','pager','vote','hometype',\n",
        "                       'confer','callwait','callid','tollfree','jobsat','equip','forward','voice','multline','ownpc',\n",
        "                       'ownipod','owngame','bfast','ebill','polcontrib']"
      ],
      "execution_count": null,
      "outputs": []
    },
    {
      "cell_type": "code",
      "metadata": {
        "colab_type": "code",
        "id": "DDOP4wbOymuS",
        "colab": {}
      },
      "source": [
        "credit_card_num = cc.columns.difference(credit_card_cat)"
      ],
      "execution_count": null,
      "outputs": []
    },
    {
      "cell_type": "markdown",
      "metadata": {
        "colab_type": "text",
        "id": "JNE1s-IUymuW"
      },
      "source": [
        "### Outlier treatment "
      ]
    },
    {
      "cell_type": "code",
      "metadata": {
        "colab_type": "code",
        "id": "by3ztaeQymuX",
        "colab": {}
      },
      "source": [
        "cc[credit_card_num] = cc[credit_card_num].apply(lambda x: x.clip(lower = x.quantile(0.01), \n",
        "                                                         upper = x.quantile(0.99)))"
      ],
      "execution_count": null,
      "outputs": []
    },
    {
      "cell_type": "code",
      "metadata": {
        "colab_type": "code",
        "id": "OMqeNNWSymub",
        "colab": {}
      },
      "source": [
        "def categorical_var_summary(x):\n",
        "    Mode = x.value_counts().sort_values(ascending = False)[0:1].reset_index()\n",
        "    return pd.Series([x.nunique(), x.count(), x.isnull().sum(), Mode.iloc[0, 0], Mode.iloc[0, 1], \n",
        "                          round(Mode.iloc[0, 1] * 100/x.count(), 2)], \n",
        "                  index = ['C', 'N', 'NMISS', 'MODE', 'FREQ', 'PERCENT'])"
      ],
      "execution_count": null,
      "outputs": []
    },
    {
      "cell_type": "code",
      "metadata": {
        "colab_type": "code",
        "id": "4y_GVJhCymuf",
        "colab": {
          "base_uri": "https://localhost:8080/",
          "height": 1000
        },
        "outputId": "f55e0797-e473-48be-c53b-c62feaee4c2b"
      },
      "source": [
        "cc[credit_card_cat_fin].apply(categorical_var_summary).T"
      ],
      "execution_count": null,
      "outputs": [
        {
          "output_type": "execute_result",
          "data": {
            "text/html": [
              "<div>\n",
              "<style scoped>\n",
              "    .dataframe tbody tr th:only-of-type {\n",
              "        vertical-align: middle;\n",
              "    }\n",
              "\n",
              "    .dataframe tbody tr th {\n",
              "        vertical-align: top;\n",
              "    }\n",
              "\n",
              "    .dataframe thead th {\n",
              "        text-align: right;\n",
              "    }\n",
              "</style>\n",
              "<table border=\"1\" class=\"dataframe\">\n",
              "  <thead>\n",
              "    <tr style=\"text-align: right;\">\n",
              "      <th></th>\n",
              "      <th>C</th>\n",
              "      <th>N</th>\n",
              "      <th>NMISS</th>\n",
              "      <th>MODE</th>\n",
              "      <th>FREQ</th>\n",
              "      <th>PERCENT</th>\n",
              "    </tr>\n",
              "  </thead>\n",
              "  <tbody>\n",
              "    <tr>\n",
              "      <th>card</th>\n",
              "      <td>5.0</td>\n",
              "      <td>5000.0</td>\n",
              "      <td>0.0</td>\n",
              "      <td>4.0</td>\n",
              "      <td>1344.0</td>\n",
              "      <td>26.88</td>\n",
              "    </tr>\n",
              "    <tr>\n",
              "      <th>retire</th>\n",
              "      <td>2.0</td>\n",
              "      <td>5000.0</td>\n",
              "      <td>0.0</td>\n",
              "      <td>0.0</td>\n",
              "      <td>4262.0</td>\n",
              "      <td>85.24</td>\n",
              "    </tr>\n",
              "    <tr>\n",
              "      <th>card2</th>\n",
              "      <td>5.0</td>\n",
              "      <td>5000.0</td>\n",
              "      <td>0.0</td>\n",
              "      <td>3.0</td>\n",
              "      <td>1384.0</td>\n",
              "      <td>27.68</td>\n",
              "    </tr>\n",
              "    <tr>\n",
              "      <th>owndvd</th>\n",
              "      <td>2.0</td>\n",
              "      <td>5000.0</td>\n",
              "      <td>0.0</td>\n",
              "      <td>1.0</td>\n",
              "      <td>4568.0</td>\n",
              "      <td>91.36</td>\n",
              "    </tr>\n",
              "    <tr>\n",
              "      <th>carown</th>\n",
              "      <td>2.0</td>\n",
              "      <td>5000.0</td>\n",
              "      <td>0.0</td>\n",
              "      <td>1.0</td>\n",
              "      <td>4201.0</td>\n",
              "      <td>84.02</td>\n",
              "    </tr>\n",
              "    <tr>\n",
              "      <th>ownvcr</th>\n",
              "      <td>2.0</td>\n",
              "      <td>5000.0</td>\n",
              "      <td>0.0</td>\n",
              "      <td>1.0</td>\n",
              "      <td>4578.0</td>\n",
              "      <td>91.56</td>\n",
              "    </tr>\n",
              "    <tr>\n",
              "      <th>reason</th>\n",
              "      <td>5.0</td>\n",
              "      <td>5000.0</td>\n",
              "      <td>0.0</td>\n",
              "      <td>9.0</td>\n",
              "      <td>4052.0</td>\n",
              "      <td>81.04</td>\n",
              "    </tr>\n",
              "    <tr>\n",
              "      <th>polview</th>\n",
              "      <td>7.0</td>\n",
              "      <td>5000.0</td>\n",
              "      <td>0.0</td>\n",
              "      <td>4.0</td>\n",
              "      <td>1733.0</td>\n",
              "      <td>34.66</td>\n",
              "    </tr>\n",
              "    <tr>\n",
              "      <th>owncd</th>\n",
              "      <td>2.0</td>\n",
              "      <td>5000.0</td>\n",
              "      <td>0.0</td>\n",
              "      <td>1.0</td>\n",
              "      <td>4664.0</td>\n",
              "      <td>93.28</td>\n",
              "    </tr>\n",
              "    <tr>\n",
              "      <th>owntv</th>\n",
              "      <td>2.0</td>\n",
              "      <td>5000.0</td>\n",
              "      <td>0.0</td>\n",
              "      <td>1.0</td>\n",
              "      <td>4915.0</td>\n",
              "      <td>98.30</td>\n",
              "    </tr>\n",
              "    <tr>\n",
              "      <th>gender</th>\n",
              "      <td>2.0</td>\n",
              "      <td>5000.0</td>\n",
              "      <td>0.0</td>\n",
              "      <td>1.0</td>\n",
              "      <td>2518.0</td>\n",
              "      <td>50.36</td>\n",
              "    </tr>\n",
              "    <tr>\n",
              "      <th>wireless</th>\n",
              "      <td>2.0</td>\n",
              "      <td>5000.0</td>\n",
              "      <td>0.0</td>\n",
              "      <td>0.0</td>\n",
              "      <td>3656.0</td>\n",
              "      <td>73.12</td>\n",
              "    </tr>\n",
              "    <tr>\n",
              "      <th>jobcat</th>\n",
              "      <td>6.0</td>\n",
              "      <td>5000.0</td>\n",
              "      <td>0.0</td>\n",
              "      <td>2.0</td>\n",
              "      <td>1640.0</td>\n",
              "      <td>32.80</td>\n",
              "    </tr>\n",
              "    <tr>\n",
              "      <th>ownpda</th>\n",
              "      <td>2.0</td>\n",
              "      <td>5000.0</td>\n",
              "      <td>0.0</td>\n",
              "      <td>0.0</td>\n",
              "      <td>3995.0</td>\n",
              "      <td>79.90</td>\n",
              "    </tr>\n",
              "    <tr>\n",
              "      <th>homeown</th>\n",
              "      <td>2.0</td>\n",
              "      <td>5000.0</td>\n",
              "      <td>0.0</td>\n",
              "      <td>1.0</td>\n",
              "      <td>3148.0</td>\n",
              "      <td>62.96</td>\n",
              "    </tr>\n",
              "    <tr>\n",
              "      <th>internet</th>\n",
              "      <td>5.0</td>\n",
              "      <td>5000.0</td>\n",
              "      <td>0.0</td>\n",
              "      <td>0.0</td>\n",
              "      <td>2498.0</td>\n",
              "      <td>49.96</td>\n",
              "    </tr>\n",
              "    <tr>\n",
              "      <th>ownfax</th>\n",
              "      <td>2.0</td>\n",
              "      <td>5000.0</td>\n",
              "      <td>0.0</td>\n",
              "      <td>0.0</td>\n",
              "      <td>4106.0</td>\n",
              "      <td>82.12</td>\n",
              "    </tr>\n",
              "    <tr>\n",
              "      <th>response_03</th>\n",
              "      <td>2.0</td>\n",
              "      <td>5000.0</td>\n",
              "      <td>0.0</td>\n",
              "      <td>0.0</td>\n",
              "      <td>4487.0</td>\n",
              "      <td>89.74</td>\n",
              "    </tr>\n",
              "    <tr>\n",
              "      <th>pager</th>\n",
              "      <td>2.0</td>\n",
              "      <td>5000.0</td>\n",
              "      <td>0.0</td>\n",
              "      <td>0.0</td>\n",
              "      <td>3782.0</td>\n",
              "      <td>75.64</td>\n",
              "    </tr>\n",
              "    <tr>\n",
              "      <th>vote</th>\n",
              "      <td>2.0</td>\n",
              "      <td>5000.0</td>\n",
              "      <td>0.0</td>\n",
              "      <td>1.0</td>\n",
              "      <td>2590.0</td>\n",
              "      <td>51.80</td>\n",
              "    </tr>\n",
              "    <tr>\n",
              "      <th>hometype</th>\n",
              "      <td>4.0</td>\n",
              "      <td>5000.0</td>\n",
              "      <td>0.0</td>\n",
              "      <td>1.0</td>\n",
              "      <td>2265.0</td>\n",
              "      <td>45.30</td>\n",
              "    </tr>\n",
              "    <tr>\n",
              "      <th>confer</th>\n",
              "      <td>2.0</td>\n",
              "      <td>5000.0</td>\n",
              "      <td>0.0</td>\n",
              "      <td>0.0</td>\n",
              "      <td>2610.0</td>\n",
              "      <td>52.20</td>\n",
              "    </tr>\n",
              "    <tr>\n",
              "      <th>callwait</th>\n",
              "      <td>2.0</td>\n",
              "      <td>5000.0</td>\n",
              "      <td>0.0</td>\n",
              "      <td>0.0</td>\n",
              "      <td>2605.0</td>\n",
              "      <td>52.10</td>\n",
              "    </tr>\n",
              "    <tr>\n",
              "      <th>callid</th>\n",
              "      <td>2.0</td>\n",
              "      <td>5000.0</td>\n",
              "      <td>0.0</td>\n",
              "      <td>0.0</td>\n",
              "      <td>2624.0</td>\n",
              "      <td>52.48</td>\n",
              "    </tr>\n",
              "    <tr>\n",
              "      <th>tollfree</th>\n",
              "      <td>2.0</td>\n",
              "      <td>5000.0</td>\n",
              "      <td>0.0</td>\n",
              "      <td>0.0</td>\n",
              "      <td>2622.0</td>\n",
              "      <td>52.44</td>\n",
              "    </tr>\n",
              "    <tr>\n",
              "      <th>jobsat</th>\n",
              "      <td>5.0</td>\n",
              "      <td>5000.0</td>\n",
              "      <td>0.0</td>\n",
              "      <td>3.0</td>\n",
              "      <td>1085.0</td>\n",
              "      <td>21.70</td>\n",
              "    </tr>\n",
              "    <tr>\n",
              "      <th>equip</th>\n",
              "      <td>2.0</td>\n",
              "      <td>5000.0</td>\n",
              "      <td>0.0</td>\n",
              "      <td>0.0</td>\n",
              "      <td>3296.0</td>\n",
              "      <td>65.92</td>\n",
              "    </tr>\n",
              "    <tr>\n",
              "      <th>forward</th>\n",
              "      <td>2.0</td>\n",
              "      <td>5000.0</td>\n",
              "      <td>0.0</td>\n",
              "      <td>0.0</td>\n",
              "      <td>2597.0</td>\n",
              "      <td>51.94</td>\n",
              "    </tr>\n",
              "    <tr>\n",
              "      <th>voice</th>\n",
              "      <td>2.0</td>\n",
              "      <td>5000.0</td>\n",
              "      <td>0.0</td>\n",
              "      <td>0.0</td>\n",
              "      <td>3485.0</td>\n",
              "      <td>69.70</td>\n",
              "    </tr>\n",
              "    <tr>\n",
              "      <th>multline</th>\n",
              "      <td>2.0</td>\n",
              "      <td>5000.0</td>\n",
              "      <td>0.0</td>\n",
              "      <td>0.0</td>\n",
              "      <td>2558.0</td>\n",
              "      <td>51.16</td>\n",
              "    </tr>\n",
              "    <tr>\n",
              "      <th>ownpc</th>\n",
              "      <td>2.0</td>\n",
              "      <td>5000.0</td>\n",
              "      <td>0.0</td>\n",
              "      <td>1.0</td>\n",
              "      <td>3164.0</td>\n",
              "      <td>63.28</td>\n",
              "    </tr>\n",
              "    <tr>\n",
              "      <th>ownipod</th>\n",
              "      <td>2.0</td>\n",
              "      <td>5000.0</td>\n",
              "      <td>0.0</td>\n",
              "      <td>0.0</td>\n",
              "      <td>2604.0</td>\n",
              "      <td>52.08</td>\n",
              "    </tr>\n",
              "    <tr>\n",
              "      <th>owngame</th>\n",
              "      <td>2.0</td>\n",
              "      <td>5000.0</td>\n",
              "      <td>0.0</td>\n",
              "      <td>0.0</td>\n",
              "      <td>2626.0</td>\n",
              "      <td>52.52</td>\n",
              "    </tr>\n",
              "    <tr>\n",
              "      <th>bfast</th>\n",
              "      <td>3.0</td>\n",
              "      <td>5000.0</td>\n",
              "      <td>0.0</td>\n",
              "      <td>3.0</td>\n",
              "      <td>1875.0</td>\n",
              "      <td>37.50</td>\n",
              "    </tr>\n",
              "    <tr>\n",
              "      <th>ebill</th>\n",
              "      <td>2.0</td>\n",
              "      <td>5000.0</td>\n",
              "      <td>0.0</td>\n",
              "      <td>0.0</td>\n",
              "      <td>3257.0</td>\n",
              "      <td>65.14</td>\n",
              "    </tr>\n",
              "    <tr>\n",
              "      <th>polcontrib</th>\n",
              "      <td>2.0</td>\n",
              "      <td>5000.0</td>\n",
              "      <td>0.0</td>\n",
              "      <td>0.0</td>\n",
              "      <td>3808.0</td>\n",
              "      <td>76.16</td>\n",
              "    </tr>\n",
              "  </tbody>\n",
              "</table>\n",
              "</div>"
            ],
            "text/plain": [
              "               C       N  NMISS  MODE    FREQ  PERCENT\n",
              "card         5.0  5000.0    0.0   4.0  1344.0    26.88\n",
              "retire       2.0  5000.0    0.0   0.0  4262.0    85.24\n",
              "card2        5.0  5000.0    0.0   3.0  1384.0    27.68\n",
              "owndvd       2.0  5000.0    0.0   1.0  4568.0    91.36\n",
              "carown       2.0  5000.0    0.0   1.0  4201.0    84.02\n",
              "ownvcr       2.0  5000.0    0.0   1.0  4578.0    91.56\n",
              "reason       5.0  5000.0    0.0   9.0  4052.0    81.04\n",
              "polview      7.0  5000.0    0.0   4.0  1733.0    34.66\n",
              "owncd        2.0  5000.0    0.0   1.0  4664.0    93.28\n",
              "owntv        2.0  5000.0    0.0   1.0  4915.0    98.30\n",
              "gender       2.0  5000.0    0.0   1.0  2518.0    50.36\n",
              "wireless     2.0  5000.0    0.0   0.0  3656.0    73.12\n",
              "jobcat       6.0  5000.0    0.0   2.0  1640.0    32.80\n",
              "ownpda       2.0  5000.0    0.0   0.0  3995.0    79.90\n",
              "homeown      2.0  5000.0    0.0   1.0  3148.0    62.96\n",
              "internet     5.0  5000.0    0.0   0.0  2498.0    49.96\n",
              "ownfax       2.0  5000.0    0.0   0.0  4106.0    82.12\n",
              "response_03  2.0  5000.0    0.0   0.0  4487.0    89.74\n",
              "pager        2.0  5000.0    0.0   0.0  3782.0    75.64\n",
              "vote         2.0  5000.0    0.0   1.0  2590.0    51.80\n",
              "hometype     4.0  5000.0    0.0   1.0  2265.0    45.30\n",
              "confer       2.0  5000.0    0.0   0.0  2610.0    52.20\n",
              "callwait     2.0  5000.0    0.0   0.0  2605.0    52.10\n",
              "callid       2.0  5000.0    0.0   0.0  2624.0    52.48\n",
              "tollfree     2.0  5000.0    0.0   0.0  2622.0    52.44\n",
              "jobsat       5.0  5000.0    0.0   3.0  1085.0    21.70\n",
              "equip        2.0  5000.0    0.0   0.0  3296.0    65.92\n",
              "forward      2.0  5000.0    0.0   0.0  2597.0    51.94\n",
              "voice        2.0  5000.0    0.0   0.0  3485.0    69.70\n",
              "multline     2.0  5000.0    0.0   0.0  2558.0    51.16\n",
              "ownpc        2.0  5000.0    0.0   1.0  3164.0    63.28\n",
              "ownipod      2.0  5000.0    0.0   0.0  2604.0    52.08\n",
              "owngame      2.0  5000.0    0.0   0.0  2626.0    52.52\n",
              "bfast        3.0  5000.0    0.0   3.0  1875.0    37.50\n",
              "ebill        2.0  5000.0    0.0   0.0  3257.0    65.14\n",
              "polcontrib   2.0  5000.0    0.0   0.0  3808.0    76.16"
            ]
          },
          "metadata": {
            "tags": []
          },
          "execution_count": 18
        }
      ]
    },
    {
      "cell_type": "code",
      "metadata": {
        "colab_type": "code",
        "id": "GVJvltFiymuk",
        "colab": {}
      },
      "source": [
        "def continuous_var_summary(x):\n",
        "    return pd.Series([x.dtype, x.nunique(), x.count(), x.isnull().sum(), x.sum(), x.mean(),\n",
        "                      x.median(), x.std(), x.var(), x.min(), x.quantile(0.01), x.quantile(0.05),\n",
        "                          x.quantile(0.10),x.quantile(0.25),x.quantile(0.50),x.quantile(0.75), \n",
        "                              x.quantile(0.90),x.quantile(0.95), x.quantile(0.99),x.max()], \n",
        "            index = ['DataType', 'C', 'N', 'NMISS', 'SUM', 'MEAN','MEDIAN', 'STD', 'VAR', 'MIN', \n",
        "                           'P1', 'P5' ,'P10' ,'P25' ,'P50' ,'P75' ,'P90' ,'P95' ,'P99' ,'MAX'])"
      ],
      "execution_count": null,
      "outputs": []
    },
    {
      "cell_type": "code",
      "metadata": {
        "colab_type": "code",
        "id": "l1Bva8PEymuo",
        "colab": {
          "base_uri": "https://localhost:8080/",
          "height": 999
        },
        "outputId": "fd7015e7-8b9b-4e45-8e81-b554df075ea6"
      },
      "source": [
        "cc[credit_card_num].apply(continuous_var_summary).T"
      ],
      "execution_count": null,
      "outputs": [
        {
          "output_type": "execute_result",
          "data": {
            "text/html": [
              "<div>\n",
              "<style scoped>\n",
              "    .dataframe tbody tr th:only-of-type {\n",
              "        vertical-align: middle;\n",
              "    }\n",
              "\n",
              "    .dataframe tbody tr th {\n",
              "        vertical-align: top;\n",
              "    }\n",
              "\n",
              "    .dataframe thead th {\n",
              "        text-align: right;\n",
              "    }\n",
              "</style>\n",
              "<table border=\"1\" class=\"dataframe\">\n",
              "  <thead>\n",
              "    <tr style=\"text-align: right;\">\n",
              "      <th></th>\n",
              "      <th>DataType</th>\n",
              "      <th>C</th>\n",
              "      <th>N</th>\n",
              "      <th>NMISS</th>\n",
              "      <th>SUM</th>\n",
              "      <th>MEAN</th>\n",
              "      <th>MEDIAN</th>\n",
              "      <th>STD</th>\n",
              "      <th>VAR</th>\n",
              "      <th>MIN</th>\n",
              "      <th>P1</th>\n",
              "      <th>P5</th>\n",
              "      <th>P10</th>\n",
              "      <th>P25</th>\n",
              "      <th>P50</th>\n",
              "      <th>P75</th>\n",
              "      <th>P90</th>\n",
              "      <th>P95</th>\n",
              "      <th>P99</th>\n",
              "      <th>MAX</th>\n",
              "    </tr>\n",
              "  </thead>\n",
              "  <tbody>\n",
              "    <tr>\n",
              "      <th>address</th>\n",
              "      <td>int64</td>\n",
              "      <td>49</td>\n",
              "      <td>5000</td>\n",
              "      <td>0</td>\n",
              "      <td>81832</td>\n",
              "      <td>16.3664</td>\n",
              "      <td>14</td>\n",
              "      <td>12.2979</td>\n",
              "      <td>151.238</td>\n",
              "      <td>0</td>\n",
              "      <td>0</td>\n",
              "      <td>1</td>\n",
              "      <td>2</td>\n",
              "      <td>6</td>\n",
              "      <td>14</td>\n",
              "      <td>25</td>\n",
              "      <td>34</td>\n",
              "      <td>40</td>\n",
              "      <td>48</td>\n",
              "      <td>48</td>\n",
              "    </tr>\n",
              "    <tr>\n",
              "      <th>age</th>\n",
              "      <td>int64</td>\n",
              "      <td>62</td>\n",
              "      <td>5000</td>\n",
              "      <td>0</td>\n",
              "      <td>235128</td>\n",
              "      <td>47.0256</td>\n",
              "      <td>47</td>\n",
              "      <td>17.7703</td>\n",
              "      <td>315.785</td>\n",
              "      <td>18</td>\n",
              "      <td>18</td>\n",
              "      <td>20</td>\n",
              "      <td>23</td>\n",
              "      <td>31</td>\n",
              "      <td>47</td>\n",
              "      <td>62</td>\n",
              "      <td>72</td>\n",
              "      <td>76</td>\n",
              "      <td>79</td>\n",
              "      <td>79</td>\n",
              "    </tr>\n",
              "    <tr>\n",
              "      <th>card2tenure</th>\n",
              "      <td>int64</td>\n",
              "      <td>31</td>\n",
              "      <td>5000</td>\n",
              "      <td>0</td>\n",
              "      <td>65422</td>\n",
              "      <td>13.0844</td>\n",
              "      <td>12</td>\n",
              "      <td>9.1194</td>\n",
              "      <td>83.1635</td>\n",
              "      <td>0</td>\n",
              "      <td>0</td>\n",
              "      <td>1</td>\n",
              "      <td>2</td>\n",
              "      <td>5</td>\n",
              "      <td>12</td>\n",
              "      <td>21</td>\n",
              "      <td>27</td>\n",
              "      <td>29</td>\n",
              "      <td>30</td>\n",
              "      <td>30</td>\n",
              "    </tr>\n",
              "    <tr>\n",
              "      <th>cardmon</th>\n",
              "      <td>float64</td>\n",
              "      <td>229</td>\n",
              "      <td>5000</td>\n",
              "      <td>0</td>\n",
              "      <td>76334.8</td>\n",
              "      <td>15.2669</td>\n",
              "      <td>13.75</td>\n",
              "      <td>14.1563</td>\n",
              "      <td>200.402</td>\n",
              "      <td>0</td>\n",
              "      <td>0</td>\n",
              "      <td>0</td>\n",
              "      <td>0</td>\n",
              "      <td>0</td>\n",
              "      <td>13.75</td>\n",
              "      <td>22.75</td>\n",
              "      <td>34</td>\n",
              "      <td>42</td>\n",
              "      <td>64.25</td>\n",
              "      <td>64.25</td>\n",
              "    </tr>\n",
              "    <tr>\n",
              "      <th>cardten</th>\n",
              "      <td>float64</td>\n",
              "      <td>651</td>\n",
              "      <td>5000</td>\n",
              "      <td>0</td>\n",
              "      <td>3.53618e+06</td>\n",
              "      <td>707.236</td>\n",
              "      <td>425</td>\n",
              "      <td>848.139</td>\n",
              "      <td>719340</td>\n",
              "      <td>0</td>\n",
              "      <td>0</td>\n",
              "      <td>0</td>\n",
              "      <td>0</td>\n",
              "      <td>0</td>\n",
              "      <td>425</td>\n",
              "      <td>1080</td>\n",
              "      <td>1870.5</td>\n",
              "      <td>2455.25</td>\n",
              "      <td>4010</td>\n",
              "      <td>4010.4</td>\n",
              "    </tr>\n",
              "    <tr>\n",
              "      <th>cardtenure</th>\n",
              "      <td>int64</td>\n",
              "      <td>41</td>\n",
              "      <td>5000</td>\n",
              "      <td>0</td>\n",
              "      <td>83279</td>\n",
              "      <td>16.6558</td>\n",
              "      <td>14</td>\n",
              "      <td>12.021</td>\n",
              "      <td>144.503</td>\n",
              "      <td>0</td>\n",
              "      <td>0</td>\n",
              "      <td>1</td>\n",
              "      <td>2</td>\n",
              "      <td>6</td>\n",
              "      <td>14</td>\n",
              "      <td>26</td>\n",
              "      <td>35</td>\n",
              "      <td>38</td>\n",
              "      <td>40</td>\n",
              "      <td>40</td>\n",
              "    </tr>\n",
              "    <tr>\n",
              "      <th>cars</th>\n",
              "      <td>int64</td>\n",
              "      <td>7</td>\n",
              "      <td>5000</td>\n",
              "      <td>0</td>\n",
              "      <td>10638</td>\n",
              "      <td>2.1276</td>\n",
              "      <td>2</td>\n",
              "      <td>1.29725</td>\n",
              "      <td>1.68285</td>\n",
              "      <td>0</td>\n",
              "      <td>0</td>\n",
              "      <td>0</td>\n",
              "      <td>1</td>\n",
              "      <td>1</td>\n",
              "      <td>2</td>\n",
              "      <td>3</td>\n",
              "      <td>4</td>\n",
              "      <td>4</td>\n",
              "      <td>6</td>\n",
              "      <td>6</td>\n",
              "    </tr>\n",
              "    <tr>\n",
              "      <th>carvalue</th>\n",
              "      <td>float64</td>\n",
              "      <td>750</td>\n",
              "      <td>5000</td>\n",
              "      <td>0</td>\n",
              "      <td>128090</td>\n",
              "      <td>25.6179</td>\n",
              "      <td>21.1</td>\n",
              "      <td>19.5481</td>\n",
              "      <td>382.127</td>\n",
              "      <td>4.2</td>\n",
              "      <td>4.2</td>\n",
              "      <td>5.895</td>\n",
              "      <td>7.6</td>\n",
              "      <td>12.1</td>\n",
              "      <td>21.1</td>\n",
              "      <td>31.1</td>\n",
              "      <td>52.91</td>\n",
              "      <td>72</td>\n",
              "      <td>92</td>\n",
              "      <td>92.001</td>\n",
              "    </tr>\n",
              "    <tr>\n",
              "      <th>commute</th>\n",
              "      <td>int64</td>\n",
              "      <td>10</td>\n",
              "      <td>5000</td>\n",
              "      <td>0</td>\n",
              "      <td>14981</td>\n",
              "      <td>2.9962</td>\n",
              "      <td>1</td>\n",
              "      <td>2.74352</td>\n",
              "      <td>7.52689</td>\n",
              "      <td>1</td>\n",
              "      <td>1</td>\n",
              "      <td>1</td>\n",
              "      <td>1</td>\n",
              "      <td>1</td>\n",
              "      <td>1</td>\n",
              "      <td>4</td>\n",
              "      <td>8</td>\n",
              "      <td>8</td>\n",
              "      <td>10</td>\n",
              "      <td>10</td>\n",
              "    </tr>\n",
              "    <tr>\n",
              "      <th>commutetime</th>\n",
              "      <td>float64</td>\n",
              "      <td>29</td>\n",
              "      <td>4998</td>\n",
              "      <td>2</td>\n",
              "      <td>126610</td>\n",
              "      <td>25.3322</td>\n",
              "      <td>25</td>\n",
              "      <td>5.75586</td>\n",
              "      <td>33.13</td>\n",
              "      <td>13</td>\n",
              "      <td>13</td>\n",
              "      <td>16</td>\n",
              "      <td>18</td>\n",
              "      <td>21</td>\n",
              "      <td>25</td>\n",
              "      <td>29</td>\n",
              "      <td>33</td>\n",
              "      <td>35</td>\n",
              "      <td>40.0009</td>\n",
              "      <td>40.03</td>\n",
              "    </tr>\n",
              "    <tr>\n",
              "      <th>creddebt</th>\n",
              "      <td>float64</td>\n",
              "      <td>4852</td>\n",
              "      <td>5000</td>\n",
              "      <td>0</td>\n",
              "      <td>8791.84</td>\n",
              "      <td>1.75837</td>\n",
              "      <td>0.926437</td>\n",
              "      <td>2.38068</td>\n",
              "      <td>5.66764</td>\n",
              "      <td>0.0331601</td>\n",
              "      <td>0.0331659</td>\n",
              "      <td>0.101088</td>\n",
              "      <td>0.175682</td>\n",
              "      <td>0.38552</td>\n",
              "      <td>0.926437</td>\n",
              "      <td>2.06382</td>\n",
              "      <td>4.29947</td>\n",
              "      <td>6.37301</td>\n",
              "      <td>14.28</td>\n",
              "      <td>14.2804</td>\n",
              "    </tr>\n",
              "    <tr>\n",
              "      <th>debtinc</th>\n",
              "      <td>float64</td>\n",
              "      <td>280</td>\n",
              "      <td>5000</td>\n",
              "      <td>0</td>\n",
              "      <td>49570.6</td>\n",
              "      <td>9.91412</td>\n",
              "      <td>8.8</td>\n",
              "      <td>6.24169</td>\n",
              "      <td>38.9587</td>\n",
              "      <td>0.7</td>\n",
              "      <td>0.7</td>\n",
              "      <td>1.9</td>\n",
              "      <td>2.8</td>\n",
              "      <td>5.1</td>\n",
              "      <td>8.8</td>\n",
              "      <td>13.6</td>\n",
              "      <td>18.6</td>\n",
              "      <td>22.2</td>\n",
              "      <td>29.2</td>\n",
              "      <td>29.2</td>\n",
              "    </tr>\n",
              "    <tr>\n",
              "      <th>ed</th>\n",
              "      <td>int64</td>\n",
              "      <td>14</td>\n",
              "      <td>5000</td>\n",
              "      <td>0</td>\n",
              "      <td>72721</td>\n",
              "      <td>14.5442</td>\n",
              "      <td>14</td>\n",
              "      <td>3.24255</td>\n",
              "      <td>10.5141</td>\n",
              "      <td>8</td>\n",
              "      <td>8</td>\n",
              "      <td>9</td>\n",
              "      <td>10</td>\n",
              "      <td>12</td>\n",
              "      <td>14</td>\n",
              "      <td>17</td>\n",
              "      <td>19</td>\n",
              "      <td>20</td>\n",
              "      <td>21</td>\n",
              "      <td>21</td>\n",
              "    </tr>\n",
              "    <tr>\n",
              "      <th>employ</th>\n",
              "      <td>int64</td>\n",
              "      <td>40</td>\n",
              "      <td>5000</td>\n",
              "      <td>0</td>\n",
              "      <td>48490</td>\n",
              "      <td>9.698</td>\n",
              "      <td>7</td>\n",
              "      <td>9.58169</td>\n",
              "      <td>91.8088</td>\n",
              "      <td>0</td>\n",
              "      <td>0</td>\n",
              "      <td>0</td>\n",
              "      <td>0</td>\n",
              "      <td>2</td>\n",
              "      <td>7</td>\n",
              "      <td>15</td>\n",
              "      <td>25</td>\n",
              "      <td>31</td>\n",
              "      <td>39</td>\n",
              "      <td>39</td>\n",
              "    </tr>\n",
              "    <tr>\n",
              "      <th>equipmon</th>\n",
              "      <td>float64</td>\n",
              "      <td>688</td>\n",
              "      <td>5000</td>\n",
              "      <td>0</td>\n",
              "      <td>64543.6</td>\n",
              "      <td>12.9087</td>\n",
              "      <td>0</td>\n",
              "      <td>18.956</td>\n",
              "      <td>359.329</td>\n",
              "      <td>0</td>\n",
              "      <td>0</td>\n",
              "      <td>0</td>\n",
              "      <td>0</td>\n",
              "      <td>0</td>\n",
              "      <td>0</td>\n",
              "      <td>30.8</td>\n",
              "      <td>42.7</td>\n",
              "      <td>49.0525</td>\n",
              "      <td>63.3</td>\n",
              "      <td>63.3005</td>\n",
              "    </tr>\n",
              "    <tr>\n",
              "      <th>equipten</th>\n",
              "      <td>float64</td>\n",
              "      <td>1634</td>\n",
              "      <td>5000</td>\n",
              "      <td>0</td>\n",
              "      <td>2.31699e+06</td>\n",
              "      <td>463.398</td>\n",
              "      <td>0</td>\n",
              "      <td>882.833</td>\n",
              "      <td>779394</td>\n",
              "      <td>0</td>\n",
              "      <td>0</td>\n",
              "      <td>0</td>\n",
              "      <td>0</td>\n",
              "      <td>0</td>\n",
              "      <td>0</td>\n",
              "      <td>510.162</td>\n",
              "      <td>1912.33</td>\n",
              "      <td>2600.99</td>\n",
              "      <td>3679.45</td>\n",
              "      <td>3679.46</td>\n",
              "    </tr>\n",
              "    <tr>\n",
              "      <th>hourstv</th>\n",
              "      <td>int64</td>\n",
              "      <td>27</td>\n",
              "      <td>5000</td>\n",
              "      <td>0</td>\n",
              "      <td>98133</td>\n",
              "      <td>19.6266</td>\n",
              "      <td>20</td>\n",
              "      <td>5.11922</td>\n",
              "      <td>26.2064</td>\n",
              "      <td>0</td>\n",
              "      <td>0</td>\n",
              "      <td>12</td>\n",
              "      <td>14</td>\n",
              "      <td>17</td>\n",
              "      <td>20</td>\n",
              "      <td>23</td>\n",
              "      <td>26</td>\n",
              "      <td>28</td>\n",
              "      <td>31</td>\n",
              "      <td>31</td>\n",
              "    </tr>\n",
              "    <tr>\n",
              "      <th>income</th>\n",
              "      <td>float64</td>\n",
              "      <td>223</td>\n",
              "      <td>5000</td>\n",
              "      <td>0</td>\n",
              "      <td>268150</td>\n",
              "      <td>53.6299</td>\n",
              "      <td>38</td>\n",
              "      <td>46.5677</td>\n",
              "      <td>2168.55</td>\n",
              "      <td>9</td>\n",
              "      <td>9</td>\n",
              "      <td>13</td>\n",
              "      <td>16</td>\n",
              "      <td>24</td>\n",
              "      <td>38</td>\n",
              "      <td>67</td>\n",
              "      <td>109.1</td>\n",
              "      <td>147</td>\n",
              "      <td>272</td>\n",
              "      <td>272.01</td>\n",
              "    </tr>\n",
              "    <tr>\n",
              "      <th>ln_total_spend</th>\n",
              "      <td>float64</td>\n",
              "      <td>4764</td>\n",
              "      <td>5000</td>\n",
              "      <td>0</td>\n",
              "      <td>30039</td>\n",
              "      <td>6.0078</td>\n",
              "      <td>6.02888</td>\n",
              "      <td>0.642764</td>\n",
              "      <td>0.413146</td>\n",
              "      <td>4.08088</td>\n",
              "      <td>4.08092</td>\n",
              "      <td>4.89863</td>\n",
              "      <td>5.22053</td>\n",
              "      <td>5.62504</td>\n",
              "      <td>6.02888</td>\n",
              "      <td>6.42416</td>\n",
              "      <td>6.81248</td>\n",
              "      <td>7.04416</td>\n",
              "      <td>7.47364</td>\n",
              "      <td>7.4737</td>\n",
              "    </tr>\n",
              "    <tr>\n",
              "      <th>longmon</th>\n",
              "      <td>float64</td>\n",
              "      <td>800</td>\n",
              "      <td>5000</td>\n",
              "      <td>0</td>\n",
              "      <td>66363.2</td>\n",
              "      <td>13.2726</td>\n",
              "      <td>9.55</td>\n",
              "      <td>11.5517</td>\n",
              "      <td>133.442</td>\n",
              "      <td>1.85</td>\n",
              "      <td>1.85</td>\n",
              "      <td>2.9</td>\n",
              "      <td>3.7</td>\n",
              "      <td>5.7</td>\n",
              "      <td>9.55</td>\n",
              "      <td>16.55</td>\n",
              "      <td>27</td>\n",
              "      <td>36.7575</td>\n",
              "      <td>65.2</td>\n",
              "      <td>65.201</td>\n",
              "    </tr>\n",
              "    <tr>\n",
              "      <th>longten</th>\n",
              "      <td>float64</td>\n",
              "      <td>4366</td>\n",
              "      <td>5000</td>\n",
              "      <td>0</td>\n",
              "      <td>3.4716e+06</td>\n",
              "      <td>694.321</td>\n",
              "      <td>350.2</td>\n",
              "      <td>892.644</td>\n",
              "      <td>796813</td>\n",
              "      <td>2.4</td>\n",
              "      <td>2.4</td>\n",
              "      <td>12.6425</td>\n",
              "      <td>28.335</td>\n",
              "      <td>104.638</td>\n",
              "      <td>350.2</td>\n",
              "      <td>913.512</td>\n",
              "      <td>1808.81</td>\n",
              "      <td>2565.93</td>\n",
              "      <td>4687.7</td>\n",
              "      <td>4688.04</td>\n",
              "    </tr>\n",
              "    <tr>\n",
              "      <th>othdebt</th>\n",
              "      <td>float64</td>\n",
              "      <td>4875</td>\n",
              "      <td>5000</td>\n",
              "      <td>0</td>\n",
              "      <td>17612.5</td>\n",
              "      <td>3.52251</td>\n",
              "      <td>2.09854</td>\n",
              "      <td>4.22176</td>\n",
              "      <td>17.8233</td>\n",
              "      <td>0.114299</td>\n",
              "      <td>0.114312</td>\n",
              "      <td>0.287692</td>\n",
              "      <td>0.457997</td>\n",
              "      <td>0.980301</td>\n",
              "      <td>2.09854</td>\n",
              "      <td>4.31478</td>\n",
              "      <td>8.06205</td>\n",
              "      <td>11.816</td>\n",
              "      <td>24.0625</td>\n",
              "      <td>24.0643</td>\n",
              "    </tr>\n",
              "    <tr>\n",
              "      <th>pets</th>\n",
              "      <td>int64</td>\n",
              "      <td>14</td>\n",
              "      <td>5000</td>\n",
              "      <td>0</td>\n",
              "      <td>15246</td>\n",
              "      <td>3.0492</td>\n",
              "      <td>2</td>\n",
              "      <td>3.35121</td>\n",
              "      <td>11.2306</td>\n",
              "      <td>0</td>\n",
              "      <td>0</td>\n",
              "      <td>0</td>\n",
              "      <td>0</td>\n",
              "      <td>0</td>\n",
              "      <td>2</td>\n",
              "      <td>5</td>\n",
              "      <td>8</td>\n",
              "      <td>10</td>\n",
              "      <td>13</td>\n",
              "      <td>13</td>\n",
              "    </tr>\n",
              "    <tr>\n",
              "      <th>reside</th>\n",
              "      <td>int64</td>\n",
              "      <td>6</td>\n",
              "      <td>5000</td>\n",
              "      <td>0</td>\n",
              "      <td>10971</td>\n",
              "      <td>2.1942</td>\n",
              "      <td>2</td>\n",
              "      <td>1.36149</td>\n",
              "      <td>1.85366</td>\n",
              "      <td>1</td>\n",
              "      <td>1</td>\n",
              "      <td>1</td>\n",
              "      <td>1</td>\n",
              "      <td>1</td>\n",
              "      <td>2</td>\n",
              "      <td>3</td>\n",
              "      <td>4</td>\n",
              "      <td>5</td>\n",
              "      <td>6</td>\n",
              "      <td>6</td>\n",
              "    </tr>\n",
              "    <tr>\n",
              "      <th>spoused</th>\n",
              "      <td>int64</td>\n",
              "      <td>18</td>\n",
              "      <td>5000</td>\n",
              "      <td>0</td>\n",
              "      <td>30477</td>\n",
              "      <td>6.0954</td>\n",
              "      <td>-1</td>\n",
              "      <td>7.70956</td>\n",
              "      <td>59.4374</td>\n",
              "      <td>-1</td>\n",
              "      <td>-1</td>\n",
              "      <td>-1</td>\n",
              "      <td>-1</td>\n",
              "      <td>-1</td>\n",
              "      <td>-1</td>\n",
              "      <td>14</td>\n",
              "      <td>16</td>\n",
              "      <td>18</td>\n",
              "      <td>20</td>\n",
              "      <td>20</td>\n",
              "    </tr>\n",
              "    <tr>\n",
              "      <th>tenure</th>\n",
              "      <td>int64</td>\n",
              "      <td>72</td>\n",
              "      <td>5000</td>\n",
              "      <td>0</td>\n",
              "      <td>191027</td>\n",
              "      <td>38.2054</td>\n",
              "      <td>38</td>\n",
              "      <td>22.6609</td>\n",
              "      <td>513.516</td>\n",
              "      <td>1</td>\n",
              "      <td>1</td>\n",
              "      <td>4</td>\n",
              "      <td>7</td>\n",
              "      <td>18</td>\n",
              "      <td>38</td>\n",
              "      <td>59</td>\n",
              "      <td>69</td>\n",
              "      <td>72</td>\n",
              "      <td>72</td>\n",
              "      <td>72</td>\n",
              "    </tr>\n",
              "    <tr>\n",
              "      <th>tollmon</th>\n",
              "      <td>float64</td>\n",
              "      <td>197</td>\n",
              "      <td>5000</td>\n",
              "      <td>0</td>\n",
              "      <td>65700.4</td>\n",
              "      <td>13.1401</td>\n",
              "      <td>0</td>\n",
              "      <td>15.8114</td>\n",
              "      <td>250.002</td>\n",
              "      <td>0</td>\n",
              "      <td>0</td>\n",
              "      <td>0</td>\n",
              "      <td>0</td>\n",
              "      <td>0</td>\n",
              "      <td>0</td>\n",
              "      <td>24.5</td>\n",
              "      <td>35.5</td>\n",
              "      <td>43.5</td>\n",
              "      <td>58.75</td>\n",
              "      <td>58.7525</td>\n",
              "    </tr>\n",
              "    <tr>\n",
              "      <th>tollten</th>\n",
              "      <td>float64</td>\n",
              "      <td>2274</td>\n",
              "      <td>5000</td>\n",
              "      <td>0</td>\n",
              "      <td>2.85065e+06</td>\n",
              "      <td>570.13</td>\n",
              "      <td>0</td>\n",
              "      <td>914.744</td>\n",
              "      <td>836757</td>\n",
              "      <td>0</td>\n",
              "      <td>0</td>\n",
              "      <td>0</td>\n",
              "      <td>0</td>\n",
              "      <td>0</td>\n",
              "      <td>0</td>\n",
              "      <td>885.45</td>\n",
              "      <td>1918.96</td>\n",
              "      <td>2620.21</td>\n",
              "      <td>3977.15</td>\n",
              "      <td>3977.27</td>\n",
              "    </tr>\n",
              "    <tr>\n",
              "      <th>wiremon</th>\n",
              "      <td>float64</td>\n",
              "      <td>699</td>\n",
              "      <td>5000</td>\n",
              "      <td>0</td>\n",
              "      <td>52651.4</td>\n",
              "      <td>10.5303</td>\n",
              "      <td>0</td>\n",
              "      <td>19.0213</td>\n",
              "      <td>361.809</td>\n",
              "      <td>0</td>\n",
              "      <td>0</td>\n",
              "      <td>0</td>\n",
              "      <td>0</td>\n",
              "      <td>0</td>\n",
              "      <td>0</td>\n",
              "      <td>20.9625</td>\n",
              "      <td>40.86</td>\n",
              "      <td>51.305</td>\n",
              "      <td>78.3</td>\n",
              "      <td>78.304</td>\n",
              "    </tr>\n",
              "    <tr>\n",
              "      <th>wireten</th>\n",
              "      <td>float64</td>\n",
              "      <td>1279</td>\n",
              "      <td>5000</td>\n",
              "      <td>0</td>\n",
              "      <td>2.0498e+06</td>\n",
              "      <td>409.96</td>\n",
              "      <td>0</td>\n",
              "      <td>930.007</td>\n",
              "      <td>864914</td>\n",
              "      <td>0</td>\n",
              "      <td>0</td>\n",
              "      <td>0</td>\n",
              "      <td>0</td>\n",
              "      <td>0</td>\n",
              "      <td>0</td>\n",
              "      <td>89.9625</td>\n",
              "      <td>1778.54</td>\n",
              "      <td>2687.92</td>\n",
              "      <td>4530.1</td>\n",
              "      <td>4530.19</td>\n",
              "    </tr>\n",
              "  </tbody>\n",
              "</table>\n",
              "</div>"
            ],
            "text/plain": [
              "               DataType     C     N NMISS          SUM     MEAN    MEDIAN       STD       VAR        MIN         P1        P5       P10       P25       P50      P75      P90      P95      P99      MAX\n",
              "address           int64    49  5000     0        81832  16.3664        14   12.2979   151.238          0          0         1         2         6        14       25       34       40       48       48\n",
              "age               int64    62  5000     0       235128  47.0256        47   17.7703   315.785         18         18        20        23        31        47       62       72       76       79       79\n",
              "card2tenure       int64    31  5000     0        65422  13.0844        12    9.1194   83.1635          0          0         1         2         5        12       21       27       29       30       30\n",
              "cardmon         float64   229  5000     0      76334.8  15.2669     13.75   14.1563   200.402          0          0         0         0         0     13.75    22.75       34       42    64.25    64.25\n",
              "cardten         float64   651  5000     0  3.53618e+06  707.236       425   848.139    719340          0          0         0         0         0       425     1080   1870.5  2455.25     4010   4010.4\n",
              "cardtenure        int64    41  5000     0        83279  16.6558        14    12.021   144.503          0          0         1         2         6        14       26       35       38       40       40\n",
              "cars              int64     7  5000     0        10638   2.1276         2   1.29725   1.68285          0          0         0         1         1         2        3        4        4        6        6\n",
              "carvalue        float64   750  5000     0       128090  25.6179      21.1   19.5481   382.127        4.2        4.2     5.895       7.6      12.1      21.1     31.1    52.91       72       92   92.001\n",
              "commute           int64    10  5000     0        14981   2.9962         1   2.74352   7.52689          1          1         1         1         1         1        4        8        8       10       10\n",
              "commutetime     float64    29  4998     2       126610  25.3322        25   5.75586     33.13         13         13        16        18        21        25       29       33       35  40.0009    40.03\n",
              "creddebt        float64  4852  5000     0      8791.84  1.75837  0.926437   2.38068   5.66764  0.0331601  0.0331659  0.101088  0.175682   0.38552  0.926437  2.06382  4.29947  6.37301    14.28  14.2804\n",
              "debtinc         float64   280  5000     0      49570.6  9.91412       8.8   6.24169   38.9587        0.7        0.7       1.9       2.8       5.1       8.8     13.6     18.6     22.2     29.2     29.2\n",
              "ed                int64    14  5000     0        72721  14.5442        14   3.24255   10.5141          8          8         9        10        12        14       17       19       20       21       21\n",
              "employ            int64    40  5000     0        48490    9.698         7   9.58169   91.8088          0          0         0         0         2         7       15       25       31       39       39\n",
              "equipmon        float64   688  5000     0      64543.6  12.9087         0    18.956   359.329          0          0         0         0         0         0     30.8     42.7  49.0525     63.3  63.3005\n",
              "equipten        float64  1634  5000     0  2.31699e+06  463.398         0   882.833    779394          0          0         0         0         0         0  510.162  1912.33  2600.99  3679.45  3679.46\n",
              "hourstv           int64    27  5000     0        98133  19.6266        20   5.11922   26.2064          0          0        12        14        17        20       23       26       28       31       31\n",
              "income          float64   223  5000     0       268150  53.6299        38   46.5677   2168.55          9          9        13        16        24        38       67    109.1      147      272   272.01\n",
              "ln_total_spend  float64  4764  5000     0        30039   6.0078   6.02888  0.642764  0.413146    4.08088    4.08092   4.89863   5.22053   5.62504   6.02888  6.42416  6.81248  7.04416  7.47364   7.4737\n",
              "longmon         float64   800  5000     0      66363.2  13.2726      9.55   11.5517   133.442       1.85       1.85       2.9       3.7       5.7      9.55    16.55       27  36.7575     65.2   65.201\n",
              "longten         float64  4366  5000     0   3.4716e+06  694.321     350.2   892.644    796813        2.4        2.4   12.6425    28.335   104.638     350.2  913.512  1808.81  2565.93   4687.7  4688.04\n",
              "othdebt         float64  4875  5000     0      17612.5  3.52251   2.09854   4.22176   17.8233   0.114299   0.114312  0.287692  0.457997  0.980301   2.09854  4.31478  8.06205   11.816  24.0625  24.0643\n",
              "pets              int64    14  5000     0        15246   3.0492         2   3.35121   11.2306          0          0         0         0         0         2        5        8       10       13       13\n",
              "reside            int64     6  5000     0        10971   2.1942         2   1.36149   1.85366          1          1         1         1         1         2        3        4        5        6        6\n",
              "spoused           int64    18  5000     0        30477   6.0954        -1   7.70956   59.4374         -1         -1        -1        -1        -1        -1       14       16       18       20       20\n",
              "tenure            int64    72  5000     0       191027  38.2054        38   22.6609   513.516          1          1         4         7        18        38       59       69       72       72       72\n",
              "tollmon         float64   197  5000     0      65700.4  13.1401         0   15.8114   250.002          0          0         0         0         0         0     24.5     35.5     43.5    58.75  58.7525\n",
              "tollten         float64  2274  5000     0  2.85065e+06   570.13         0   914.744    836757          0          0         0         0         0         0   885.45  1918.96  2620.21  3977.15  3977.27\n",
              "wiremon         float64   699  5000     0      52651.4  10.5303         0   19.0213   361.809          0          0         0         0         0         0  20.9625    40.86   51.305     78.3   78.304\n",
              "wireten         float64  1279  5000     0   2.0498e+06   409.96         0   930.007    864914          0          0         0         0         0         0  89.9625  1778.54  2687.92   4530.1  4530.19"
            ]
          },
          "metadata": {
            "tags": []
          },
          "execution_count": 20
        }
      ]
    },
    {
      "cell_type": "markdown",
      "metadata": {
        "colab_type": "text",
        "id": "PO5ETXZfymus"
      },
      "source": [
        "### Correlation b/w numerical features"
      ]
    },
    {
      "cell_type": "code",
      "metadata": {
        "id": "tCroXkORVYVX",
        "colab_type": "code",
        "colab": {}
      },
      "source": [
        "def linear_relationship(x, y):\n",
        "    cor_x = np.corrcoef(y, x)[1][[0]][0]\n",
        "    cor_log_x = np.corrcoef(y, np.log(x+1))[1][[0]][0]\n",
        "    cor_exp_x =  np.corrcoef(y, np.exp(x))[1][[0]][0]\n",
        "    cor_sqrt_x =  np.corrcoef(y,np.sqrt(x))[1][[0]][0]\n",
        "    cor_sqre_x =  np.corrcoef(y,x*x)[1][[0]][0]\n",
        "    return pd.Series([cor_x, cor_log_x, cor_exp_x, cor_sqrt_x, cor_sqre_x], index = ['corr_x', 'corr_logx', 'corr_expx', 'corr_sqrtx', 'corr_sqrex'])"
      ],
      "execution_count": null,
      "outputs": []
    },
    {
      "cell_type": "code",
      "metadata": {
        "id": "QdtR-XshVYVb",
        "colab_type": "code",
        "colab": {},
        "outputId": "170f67de-365c-4192-bf83-568ebf419122"
      },
      "source": [
        "linear_relationship = cc[credit_card_num].apply(lambda x: linear_relationship(x,cc.ln_total_spend))\n",
        "linear_relationship.to_csv('linear_relationship.csv')"
      ],
      "execution_count": null,
      "outputs": [
        {
          "output_type": "stream",
          "text": [
            "c:\\users\\hp\\appdata\\local\\programs\\python\\python37-32\\lib\\site-packages\\pandas\\core\\series.py:856: RuntimeWarning: overflow encountered in exp\n",
            "  result = getattr(ufunc, method)(*inputs, **kwargs)\n",
            "c:\\users\\hp\\appdata\\local\\programs\\python\\python37-32\\lib\\site-packages\\numpy\\lib\\function_base.py:2445: RuntimeWarning: invalid value encountered in subtract\n",
            "  X -= avg[:, None]\n",
            "c:\\users\\hp\\appdata\\local\\programs\\python\\python37-32\\lib\\site-packages\\pandas\\core\\series.py:856: RuntimeWarning: divide by zero encountered in log\n",
            "  result = getattr(ufunc, method)(*inputs, **kwargs)\n",
            "c:\\users\\hp\\appdata\\local\\programs\\python\\python37-32\\lib\\site-packages\\pandas\\core\\series.py:856: RuntimeWarning: invalid value encountered in sqrt\n",
            "  result = getattr(ufunc, method)(*inputs, **kwargs)\n"
          ],
          "name": "stderr"
        }
      ]
    },
    {
      "cell_type": "code",
      "metadata": {
        "colab_type": "code",
        "id": "adHoWOCmymu1",
        "colab": {}
      },
      "source": [
        "# card2tenure is highly correlated with cardtenure and tenure\n",
        "cc.drop(['age','pets','commute','reside'], axis=1, inplace=True)"
      ],
      "execution_count": null,
      "outputs": []
    },
    {
      "cell_type": "code",
      "metadata": {
        "id": "vhYmOgpsVYVl",
        "colab_type": "code",
        "colab": {}
      },
      "source": [
        "cc['ln_address'] = np.log(cc.address + 1)\n",
        "cc['ln_card2tenure'] = np.log(cc.card2tenure + 1)\n",
        "cc['ln_cardmon'] = np.log(cc.cardmon + 1)\n",
        "cc['ln_cardtenure'] = np.log(cc.cardtenure + 1)\n",
        "cc['ln_creddebt'] = np.log(cc.creddebt + 1)\n",
        "cc['ln_employ'] = np.log(cc.employ + 1)\n",
        "cc['ln_hourstv'] = np.log(cc.hourstv + 1)\n",
        "cc['ln_income'] = np.log(cc.income + 1)\n",
        "cc['ln_longmon'] = np.log(cc.longmon + 1)\n",
        "cc['ln_longten'] = np.log(cc.longten + 1)\n",
        "cc['ln_othdebt'] = np.log(cc.othdebt + 1)\n",
        "cc['ln_tenure'] = np.log(cc.tenure + 1)\n",
        "cc['ln_tollten'] = np.log(cc.tollten + 1)\n",
        "cc['ln_wiremon'] = np.log(cc.wiremon + 1)\n",
        "cc['ln_wireten'] = np.log(cc.wireten + 1)"
      ],
      "execution_count": null,
      "outputs": []
    },
    {
      "cell_type": "code",
      "metadata": {
        "id": "rHWwGoMRVYVp",
        "colab_type": "code",
        "colab": {}
      },
      "source": [
        "cc.drop(['address','card2tenure','cardmon','cardtenure','creddebt','employ','hourstv','income','longmon','longten',\n",
        "        'othdebt','tenure','tollten','wiremon','wireten'],axis=1, inplace=True)"
      ],
      "execution_count": null,
      "outputs": []
    },
    {
      "cell_type": "code",
      "metadata": {
        "id": "nrFateHXVYVs",
        "colab_type": "code",
        "colab": {}
      },
      "source": [
        "cc['sqrt_cardten'] = np.sqrt(cc.cardten)\n",
        "cc['sqrt_carvalue'] = np.sqrt(cc.carvalue)\n",
        "cc['sq_cars'] = cc.cars * cc.cars\n",
        "cc['sq_debtinc'] = cc.debtinc * cc.debtinc\n",
        "cc['sq_equipmon'] = cc.equipmon * cc.equipmon\n",
        "cc['sq_equipten'] = cc.equipten * cc.equipten\n",
        "cc['sq_spoused'] = cc.spoused * cc.spoused\n",
        "cc['sq_tollmon'] = cc.tollmon * cc.tollmon"
      ],
      "execution_count": null,
      "outputs": []
    },
    {
      "cell_type": "code",
      "metadata": {
        "id": "7Ez-h70zVYVx",
        "colab_type": "code",
        "colab": {}
      },
      "source": [
        "cc.drop(['cardten','carvalue','cars','debtinc','equipmon','equipten','spoused','tollmon'],axis=1, inplace=True)"
      ],
      "execution_count": null,
      "outputs": []
    },
    {
      "cell_type": "code",
      "metadata": {
        "id": "9mK86jMGVYV2",
        "colab_type": "code",
        "colab": {}
      },
      "source": [
        "credit_card_num = cc.columns.difference(credit_card_cat)"
      ],
      "execution_count": null,
      "outputs": []
    },
    {
      "cell_type": "code",
      "metadata": {
        "colab_type": "code",
        "id": "7krd31vRymut",
        "colab": {},
        "outputId": "d9eba973-0bf6-4af3-bef5-305cc98bcacb"
      },
      "source": [
        "y_corr = pd.DataFrame(cc[credit_card_num].corr())\n",
        "plt.figure(figsize=(20,20))\n",
        "sns.heatmap(y_corr, annot=True)"
      ],
      "execution_count": null,
      "outputs": [
        {
          "output_type": "execute_result",
          "data": {
            "text/plain": [
              "<matplotlib.axes._subplots.AxesSubplot at 0x16834990>"
            ]
          },
          "metadata": {
            "tags": []
          },
          "execution_count": 58
        },
        {
          "output_type": "display_data",
          "data": {
            "image/png": "[encoded data removed]",
            "text/plain": [
              "<Figure size 1440x1440 with 2 Axes>"
            ]
          },
          "metadata": {
            "tags": [],
            "needs_background": "light"
          }
        }
      ]
    },
    {
      "cell_type": "code",
      "metadata": {
        "colab_type": "code",
        "id": "aVM_ifWoymux",
        "colab": {},
        "outputId": "a42ff864-13fb-4e21-9644-3c31572e16e9"
      },
      "source": [
        "# Dropping variables which have very less relationship with our target variable\n",
        "y_corr.loc[(y_corr.ln_total_spend > -0.01) & (y_corr.ln_total_spend < 0.01)].index"
      ],
      "execution_count": null,
      "outputs": [
        {
          "output_type": "execute_result",
          "data": {
            "text/plain": [
              "Index(['commutetime'], dtype='object')"
            ]
          },
          "metadata": {
            "tags": []
          },
          "execution_count": 61
        }
      ]
    },
    {
      "cell_type": "code",
      "metadata": {
        "id": "EUohkxo-VYWC",
        "colab_type": "code",
        "colab": {}
      },
      "source": [
        "cc.drop(['ln_wireten','ln_longten','ln_card2tenure','sqrt_carvalue','ln_cardtenure','ln_cardtenure'],axis=1, inplace=True)"
      ],
      "execution_count": null,
      "outputs": []
    },
    {
      "cell_type": "code",
      "metadata": {
        "id": "dEg2fGYmVYWG",
        "colab_type": "code",
        "colab": {}
      },
      "source": [
        "cc.drop(['commutetime'],axis=1, inplace=True)"
      ],
      "execution_count": null,
      "outputs": []
    },
    {
      "cell_type": "code",
      "metadata": {
        "colab_type": "code",
        "id": "YbK0x2hRymu5",
        "colab": {}
      },
      "source": [
        "num_features = cc.columns.difference(credit_card_cat)\n",
        "num_features = num_features.difference(['ln_total_spend'])"
      ],
      "execution_count": null,
      "outputs": []
    },
    {
      "cell_type": "code",
      "metadata": {
        "id": "vsfukrSBVYWP",
        "colab_type": "code",
        "colab": {},
        "outputId": "b760b0f7-5f75-4f40-9b8f-b89b8c51daf7"
      },
      "source": [
        "cc[num_features]"
      ],
      "execution_count": null,
      "outputs": [
        {
          "output_type": "execute_result",
          "data": {
            "text/html": [
              "<div>\n",
              "<style scoped>\n",
              "    .dataframe tbody tr th:only-of-type {\n",
              "        vertical-align: middle;\n",
              "    }\n",
              "\n",
              "    .dataframe tbody tr th {\n",
              "        vertical-align: top;\n",
              "    }\n",
              "\n",
              "    .dataframe thead th {\n",
              "        text-align: right;\n",
              "    }\n",
              "</style>\n",
              "<table border=\"1\" class=\"dataframe\">\n",
              "  <thead>\n",
              "    <tr style=\"text-align: right;\">\n",
              "      <th></th>\n",
              "      <th>ed</th>\n",
              "      <th>ln_address</th>\n",
              "      <th>ln_cardmon</th>\n",
              "      <th>ln_creddebt</th>\n",
              "      <th>ln_employ</th>\n",
              "      <th>ln_hourstv</th>\n",
              "      <th>ln_income</th>\n",
              "      <th>ln_longmon</th>\n",
              "      <th>ln_othdebt</th>\n",
              "      <th>ln_tenure</th>\n",
              "      <th>ln_tollten</th>\n",
              "      <th>ln_wiremon</th>\n",
              "      <th>sq_cars</th>\n",
              "      <th>sq_debtinc</th>\n",
              "      <th>sq_equipmon</th>\n",
              "      <th>sq_equipten</th>\n",
              "      <th>sq_spoused</th>\n",
              "      <th>sq_tollmon</th>\n",
              "      <th>sqrt_cardten</th>\n",
              "    </tr>\n",
              "  </thead>\n",
              "  <tbody>\n",
              "    <tr>\n",
              "      <th>0</th>\n",
              "      <td>15</td>\n",
              "      <td>0.000000</td>\n",
              "      <td>2.724580</td>\n",
              "      <td>0.788870</td>\n",
              "      <td>0.000000</td>\n",
              "      <td>2.639057</td>\n",
              "      <td>3.465736</td>\n",
              "      <td>2.014903</td>\n",
              "      <td>1.175601</td>\n",
              "      <td>1.791759</td>\n",
              "      <td>5.087905</td>\n",
              "      <td>0.000000</td>\n",
              "      <td>4</td>\n",
              "      <td>123.21</td>\n",
              "      <td>870.2500</td>\n",
              "      <td>1.590121e+04</td>\n",
              "      <td>1</td>\n",
              "      <td>841.00</td>\n",
              "      <td>7.745967</td>\n",
              "    </tr>\n",
              "    <tr>\n",
              "      <th>1</th>\n",
              "      <td>17</td>\n",
              "      <td>1.098612</td>\n",
              "      <td>2.833213</td>\n",
              "      <td>0.798417</td>\n",
              "      <td>0.000000</td>\n",
              "      <td>2.944439</td>\n",
              "      <td>2.772589</td>\n",
              "      <td>2.292535</td>\n",
              "      <td>0.943120</td>\n",
              "      <td>3.688879</td>\n",
              "      <td>0.000000</td>\n",
              "      <td>3.842673</td>\n",
              "      <td>4</td>\n",
              "      <td>345.96</td>\n",
              "      <td>3008.5225</td>\n",
              "      <td>3.900625e+06</td>\n",
              "      <td>1</td>\n",
              "      <td>0.00</td>\n",
              "      <td>24.698178</td>\n",
              "    </tr>\n",
              "    <tr>\n",
              "      <th>2</th>\n",
              "      <td>14</td>\n",
              "      <td>3.433987</td>\n",
              "      <td>3.178054</td>\n",
              "      <td>0.656805</td>\n",
              "      <td>2.833213</td>\n",
              "      <td>3.091042</td>\n",
              "      <td>3.583519</td>\n",
              "      <td>3.380995</td>\n",
              "      <td>1.263104</td>\n",
              "      <td>4.189655</td>\n",
              "      <td>0.000000</td>\n",
              "      <td>0.000000</td>\n",
              "      <td>9</td>\n",
              "      <td>98.01</td>\n",
              "      <td>0.0000</td>\n",
              "      <td>0.000000e+00</td>\n",
              "      <td>169</td>\n",
              "      <td>0.00</td>\n",
              "      <td>37.549967</td>\n",
              "    </tr>\n",
              "    <tr>\n",
              "      <th>3</th>\n",
              "      <td>16</td>\n",
              "      <td>1.386294</td>\n",
              "      <td>3.091042</td>\n",
              "      <td>0.032622</td>\n",
              "      <td>0.000000</td>\n",
              "      <td>3.295837</td>\n",
              "      <td>3.044522</td>\n",
              "      <td>1.945910</td>\n",
              "      <td>0.750094</td>\n",
              "      <td>3.610918</td>\n",
              "      <td>0.000000</td>\n",
              "      <td>0.000000</td>\n",
              "      <td>9</td>\n",
              "      <td>32.49</td>\n",
              "      <td>0.0000</td>\n",
              "      <td>0.000000e+00</td>\n",
              "      <td>324</td>\n",
              "      <td>0.00</td>\n",
              "      <td>26.172505</td>\n",
              "    </tr>\n",
              "    <tr>\n",
              "      <th>4</th>\n",
              "      <td>16</td>\n",
              "      <td>1.386294</td>\n",
              "      <td>2.904165</td>\n",
              "      <td>0.194463</td>\n",
              "      <td>0.693147</td>\n",
              "      <td>3.332205</td>\n",
              "      <td>3.178054</td>\n",
              "      <td>1.398717</td>\n",
              "      <td>0.162409</td>\n",
              "      <td>3.091042</td>\n",
              "      <td>5.962808</td>\n",
              "      <td>2.998229</td>\n",
              "      <td>1</td>\n",
              "      <td>2.89</td>\n",
              "      <td>0.0000</td>\n",
              "      <td>0.000000e+00</td>\n",
              "      <td>169</td>\n",
              "      <td>272.25</td>\n",
              "      <td>18.973666</td>\n",
              "    </tr>\n",
              "    <tr>\n",
              "      <th>...</th>\n",
              "      <td>...</td>\n",
              "      <td>...</td>\n",
              "      <td>...</td>\n",
              "      <td>...</td>\n",
              "      <td>...</td>\n",
              "      <td>...</td>\n",
              "      <td>...</td>\n",
              "      <td>...</td>\n",
              "      <td>...</td>\n",
              "      <td>...</td>\n",
              "      <td>...</td>\n",
              "      <td>...</td>\n",
              "      <td>...</td>\n",
              "      <td>...</td>\n",
              "      <td>...</td>\n",
              "      <td>...</td>\n",
              "      <td>...</td>\n",
              "      <td>...</td>\n",
              "      <td>...</td>\n",
              "    </tr>\n",
              "    <tr>\n",
              "      <th>4995</th>\n",
              "      <td>10</td>\n",
              "      <td>3.218876</td>\n",
              "      <td>3.124565</td>\n",
              "      <td>2.189873</td>\n",
              "      <td>3.218876</td>\n",
              "      <td>2.995732</td>\n",
              "      <td>5.283204</td>\n",
              "      <td>3.558201</td>\n",
              "      <td>2.168587</td>\n",
              "      <td>4.248495</td>\n",
              "      <td>0.000000</td>\n",
              "      <td>0.000000</td>\n",
              "      <td>1</td>\n",
              "      <td>64.00</td>\n",
              "      <td>0.0000</td>\n",
              "      <td>0.000000e+00</td>\n",
              "      <td>1</td>\n",
              "      <td>0.00</td>\n",
              "      <td>39.560081</td>\n",
              "    </tr>\n",
              "    <tr>\n",
              "      <th>4996</th>\n",
              "      <td>14</td>\n",
              "      <td>2.564949</td>\n",
              "      <td>3.305054</td>\n",
              "      <td>1.467091</td>\n",
              "      <td>1.945910</td>\n",
              "      <td>2.708050</td>\n",
              "      <td>4.430817</td>\n",
              "      <td>2.433613</td>\n",
              "      <td>2.313861</td>\n",
              "      <td>3.433987</td>\n",
              "      <td>7.054622</td>\n",
              "      <td>3.363842</td>\n",
              "      <td>4</td>\n",
              "      <td>225.00</td>\n",
              "      <td>0.0000</td>\n",
              "      <td>0.000000e+00</td>\n",
              "      <td>1</td>\n",
              "      <td>1332.25</td>\n",
              "      <td>28.284271</td>\n",
              "    </tr>\n",
              "    <tr>\n",
              "      <th>4997</th>\n",
              "      <td>17</td>\n",
              "      <td>3.891820</td>\n",
              "      <td>2.788093</td>\n",
              "      <td>1.516779</td>\n",
              "      <td>3.218876</td>\n",
              "      <td>2.833213</td>\n",
              "      <td>4.691348</td>\n",
              "      <td>3.414443</td>\n",
              "      <td>2.208986</td>\n",
              "      <td>4.290459</td>\n",
              "      <td>8.108774</td>\n",
              "      <td>0.000000</td>\n",
              "      <td>9</td>\n",
              "      <td>116.64</td>\n",
              "      <td>0.0000</td>\n",
              "      <td>0.000000e+00</td>\n",
              "      <td>1</td>\n",
              "      <td>1936.00</td>\n",
              "      <td>32.710854</td>\n",
              "    </tr>\n",
              "    <tr>\n",
              "      <th>4998</th>\n",
              "      <td>19</td>\n",
              "      <td>2.833213</td>\n",
              "      <td>2.351375</td>\n",
              "      <td>1.795312</td>\n",
              "      <td>1.386294</td>\n",
              "      <td>3.218876</td>\n",
              "      <td>5.247024</td>\n",
              "      <td>2.191654</td>\n",
              "      <td>2.796711</td>\n",
              "      <td>3.637586</td>\n",
              "      <td>0.000000</td>\n",
              "      <td>0.000000</td>\n",
              "      <td>4</td>\n",
              "      <td>116.64</td>\n",
              "      <td>873.2025</td>\n",
              "      <td>1.066779e+06</td>\n",
              "      <td>225</td>\n",
              "      <td>0.00</td>\n",
              "      <td>18.574176</td>\n",
              "    </tr>\n",
              "    <tr>\n",
              "      <th>4999</th>\n",
              "      <td>10</td>\n",
              "      <td>2.772589</td>\n",
              "      <td>2.525729</td>\n",
              "      <td>1.184071</td>\n",
              "      <td>3.044522</td>\n",
              "      <td>2.995732</td>\n",
              "      <td>4.356709</td>\n",
              "      <td>2.202765</td>\n",
              "      <td>1.254576</td>\n",
              "      <td>3.258097</td>\n",
              "      <td>0.000000</td>\n",
              "      <td>0.000000</td>\n",
              "      <td>4</td>\n",
              "      <td>38.44</td>\n",
              "      <td>0.0000</td>\n",
              "      <td>0.000000e+00</td>\n",
              "      <td>144</td>\n",
              "      <td>0.00</td>\n",
              "      <td>16.124515</td>\n",
              "    </tr>\n",
              "  </tbody>\n",
              "</table>\n",
              "<p>5000 rows × 19 columns</p>\n",
              "</div>"
            ],
            "text/plain": [
              "      ed  ln_address  ln_cardmon  ln_creddebt  ln_employ  ln_hourstv  ln_income  ln_longmon  ln_othdebt  ln_tenure  ln_tollten  ln_wiremon  sq_cars  sq_debtinc  sq_equipmon   sq_equipten  sq_spoused  sq_tollmon  sqrt_cardten\n",
              "0     15    0.000000    2.724580     0.788870   0.000000    2.639057   3.465736    2.014903    1.175601   1.791759    5.087905    0.000000        4      123.21     870.2500  1.590121e+04           1      841.00      7.745967\n",
              "1     17    1.098612    2.833213     0.798417   0.000000    2.944439   2.772589    2.292535    0.943120   3.688879    0.000000    3.842673        4      345.96    3008.5225  3.900625e+06           1        0.00     24.698178\n",
              "2     14    3.433987    3.178054     0.656805   2.833213    3.091042   3.583519    3.380995    1.263104   4.189655    0.000000    0.000000        9       98.01       0.0000  0.000000e+00         169        0.00     37.549967\n",
              "3     16    1.386294    3.091042     0.032622   0.000000    3.295837   3.044522    1.945910    0.750094   3.610918    0.000000    0.000000        9       32.49       0.0000  0.000000e+00         324        0.00     26.172505\n",
              "4     16    1.386294    2.904165     0.194463   0.693147    3.332205   3.178054    1.398717    0.162409   3.091042    5.962808    2.998229        1        2.89       0.0000  0.000000e+00         169      272.25     18.973666\n",
              "...   ..         ...         ...          ...        ...         ...        ...         ...         ...        ...         ...         ...      ...         ...          ...           ...         ...         ...           ...\n",
              "4995  10    3.218876    3.124565     2.189873   3.218876    2.995732   5.283204    3.558201    2.168587   4.248495    0.000000    0.000000        1       64.00       0.0000  0.000000e+00           1        0.00     39.560081\n",
              "4996  14    2.564949    3.305054     1.467091   1.945910    2.708050   4.430817    2.433613    2.313861   3.433987    7.054622    3.363842        4      225.00       0.0000  0.000000e+00           1     1332.25     28.284271\n",
              "4997  17    3.891820    2.788093     1.516779   3.218876    2.833213   4.691348    3.414443    2.208986   4.290459    8.108774    0.000000        9      116.64       0.0000  0.000000e+00           1     1936.00     32.710854\n",
              "4998  19    2.833213    2.351375     1.795312   1.386294    3.218876   5.247024    2.191654    2.796711   3.637586    0.000000    0.000000        4      116.64     873.2025  1.066779e+06         225        0.00     18.574176\n",
              "4999  10    2.772589    2.525729     1.184071   3.044522    2.995732   4.356709    2.202765    1.254576   3.258097    0.000000    0.000000        4       38.44       0.0000  0.000000e+00         144        0.00     16.124515\n",
              "\n",
              "[5000 rows x 19 columns]"
            ]
          },
          "metadata": {
            "tags": []
          },
          "execution_count": 70
        }
      ]
    },
    {
      "cell_type": "markdown",
      "metadata": {
        "colab_type": "text",
        "id": "YtevBlnTymvB"
      },
      "source": [
        "### F regression"
      ]
    },
    {
      "cell_type": "code",
      "metadata": {
        "colab_type": "code",
        "id": "Vjkd9GOvymvC",
        "colab": {}
      },
      "source": [
        "from sklearn.feature_selection import f_regression"
      ],
      "execution_count": null,
      "outputs": []
    },
    {
      "cell_type": "code",
      "metadata": {
        "colab_type": "code",
        "id": "HkYSlxpFymvG",
        "colab": {}
      },
      "source": [
        "features = cc[num_features]\n",
        "target = cc['ln_total_spend']\n",
        "F_values, p_values  = f_regression( features, target )"
      ],
      "execution_count": null,
      "outputs": []
    },
    {
      "cell_type": "code",
      "metadata": {
        "colab_type": "code",
        "id": "nmU7NNOUymvK",
        "colab": {}
      },
      "source": [
        "F_Regression_results = pd.concat([pd.Series(features.columns), \n",
        "                            pd.Series(F_values), pd.Series(p_values).round(5)], axis = 1)\n",
        "\n",
        "# add the column names\n",
        "F_Regression_results.columns = ['Feature', 'F_value', 'p_value']"
      ],
      "execution_count": null,
      "outputs": []
    },
    {
      "cell_type": "code",
      "metadata": {
        "colab_type": "code",
        "id": "PN0tWS0pymvO",
        "colab": {}
      },
      "source": [
        "F_Regression_results.sort_values(by  = 'F_value',ascending=False,inplace=True)"
      ],
      "execution_count": null,
      "outputs": []
    },
    {
      "cell_type": "code",
      "metadata": {
        "colab_type": "code",
        "id": "t-NAJkaGymvS",
        "colab": {}
      },
      "source": [
        "F_Regression_results['rank_2'] = np.arange(1,20)"
      ],
      "execution_count": null,
      "outputs": []
    },
    {
      "cell_type": "code",
      "metadata": {
        "colab_type": "code",
        "id": "bY0oojclymvX",
        "colab": {}
      },
      "source": [
        "F_Regression_results.to_csv('Freg2.csv')"
      ],
      "execution_count": null,
      "outputs": []
    },
    {
      "cell_type": "markdown",
      "metadata": {
        "colab_type": "text",
        "id": "Ib9VV4bPymvb"
      },
      "source": [
        "### RFE"
      ]
    },
    {
      "cell_type": "code",
      "metadata": {
        "colab_type": "code",
        "id": "2jAuZkkSymvb",
        "colab": {},
        "outputId": "944f2637-d57d-444c-a7d4-37c721323a06"
      },
      "source": [
        "ligreg = LinearRegression()\n",
        "rfe = RFE(ligreg, 1)\n",
        "rfe = rfe.fit(features, target )\n",
        "print(rfe.support_)\n",
        "print(rfe.ranking_)"
      ],
      "execution_count": null,
      "outputs": [
        {
          "output_type": "stream",
          "text": [
            "[False False False False False False  True False False False False False\n",
            " False False False False False False False]\n",
            "[14  6  5  3  2  8  1  4  9  7 11 10 12 16 17 19 15 18 13]\n"
          ],
          "name": "stdout"
        }
      ]
    },
    {
      "cell_type": "code",
      "metadata": {
        "colab_type": "code",
        "id": "GyDlQWqvymvf",
        "colab": {}
      },
      "source": [
        "ranking = pd.Series(rfe.ranking_)"
      ],
      "execution_count": null,
      "outputs": []
    },
    {
      "cell_type": "code",
      "metadata": {
        "colab_type": "code",
        "id": "68Mu7cMxymvj",
        "colab": {}
      },
      "source": [
        "selected_features_from_rfe = pd.concat([pd.Series(features.columns), ranking], axis=1)"
      ],
      "execution_count": null,
      "outputs": []
    },
    {
      "cell_type": "code",
      "metadata": {
        "colab_type": "code",
        "id": "AX33LxGHymvn",
        "colab": {}
      },
      "source": [
        "selected_features_from_rfe.columns = ['Features', 'Ranking']"
      ],
      "execution_count": null,
      "outputs": []
    },
    {
      "cell_type": "code",
      "metadata": {
        "colab_type": "code",
        "id": "vjzE9BUFymvs",
        "colab": {}
      },
      "source": [
        "selected_features_from_rfe.to_csv('rfe2.csv')"
      ],
      "execution_count": null,
      "outputs": []
    },
    {
      "cell_type": "markdown",
      "metadata": {
        "colab_type": "text",
        "id": "aZJoSgs1ymvx"
      },
      "source": [
        "### Variable reduction using Select K-Best technique"
      ]
    },
    {
      "cell_type": "code",
      "metadata": {
        "colab_type": "code",
        "id": "F1NE-xJ-ymvx",
        "colab": {}
      },
      "source": [
        "X_new = SelectKBest(f_regression, k=15).fit(features, target )"
      ],
      "execution_count": null,
      "outputs": []
    },
    {
      "cell_type": "code",
      "metadata": {
        "colab_type": "code",
        "id": "xvpToshCymv1",
        "colab": {},
        "outputId": "18071699-c991-4ae3-b80c-77488d5cb8ce"
      },
      "source": [
        "X_new.get_support()"
      ],
      "execution_count": null,
      "outputs": [
        {
          "output_type": "execute_result",
          "data": {
            "text/plain": [
              "array([ True,  True, False,  True,  True,  True,  True,  True,  True,\n",
              "        True,  True,  True, False, False,  True,  True,  True,  True,\n",
              "       False])"
            ]
          },
          "metadata": {
            "tags": []
          },
          "execution_count": 84
        }
      ]
    },
    {
      "cell_type": "code",
      "metadata": {
        "colab_type": "code",
        "id": "rkzLq-QQymv5",
        "colab": {},
        "outputId": "9ef5985a-1b1f-4af1-d020-f2c29e90bc53"
      },
      "source": [
        "X_new.scores_"
      ],
      "execution_count": null,
      "outputs": [
        {
          "output_type": "execute_result",
          "data": {
            "text/plain": [
              "array([ 48.57623112,  41.16764437,   2.24212045, 363.36319617,\n",
              "        41.74105599,  28.24001948, 978.06188901,   9.92240923,\n",
              "       439.82181422,  17.59391414,  24.28457003,  31.40468857,\n",
              "         1.18335127,   1.80208007,  33.42054522,  33.78038192,\n",
              "         7.8864175 ,  28.77629515,   5.62346201])"
            ]
          },
          "metadata": {
            "tags": []
          },
          "execution_count": 85
        }
      ]
    },
    {
      "cell_type": "code",
      "metadata": {
        "colab_type": "code",
        "id": "nFfHfu9Zymv9",
        "colab": {}
      },
      "source": [
        "selected_features_from_KBest = pd.concat([pd.Series(features.columns), pd.Series(X_new.scores_)], axis=1)"
      ],
      "execution_count": null,
      "outputs": []
    },
    {
      "cell_type": "code",
      "metadata": {
        "colab_type": "code",
        "id": "U0U-DJfjymwF",
        "colab": {}
      },
      "source": [
        "selected_features_from_KBest.columns = ['features', 'Scores']"
      ],
      "execution_count": null,
      "outputs": []
    },
    {
      "cell_type": "code",
      "metadata": {
        "colab_type": "code",
        "id": "2Xn1jMgPymwJ",
        "colab": {}
      },
      "source": [
        "selected_features_from_KBest.sort_values(by='Scores', ascending=False, inplace=True)"
      ],
      "execution_count": null,
      "outputs": []
    },
    {
      "cell_type": "code",
      "metadata": {
        "colab_type": "code",
        "id": "gQ4hDmo2ymwN",
        "colab": {}
      },
      "source": [
        "selected_features_from_KBest['rank_3'] = np.arange(1,20)"
      ],
      "execution_count": null,
      "outputs": []
    },
    {
      "cell_type": "code",
      "metadata": {
        "colab_type": "code",
        "id": "vRJa6oSWymwT",
        "colab": {}
      },
      "source": [
        "selected_features_from_KBest.to_csv('kbest2.csv')"
      ],
      "execution_count": null,
      "outputs": []
    },
    {
      "cell_type": "markdown",
      "metadata": {
        "colab_type": "text",
        "id": "G3tiMDBdymwZ"
      },
      "source": [
        "#### Final feature selection"
      ]
    },
    {
      "cell_type": "code",
      "metadata": {
        "colab_type": "code",
        "id": "XtlB1vB3ymwa",
        "colab": {}
      },
      "source": [
        "feat_selection = pd.merge(left=selected_features_from_KBest, right=selected_features_from_rfe, how='inner',  left_on='features', right_on='Features')"
      ],
      "execution_count": null,
      "outputs": []
    },
    {
      "cell_type": "code",
      "metadata": {
        "colab_type": "code",
        "id": "kaGDID8Jymwd",
        "colab": {}
      },
      "source": [
        "feat_selection = pd.merge(left=feat_selection, right=F_Regression_results, how='inner',  left_on='features', right_on='Feature')"
      ],
      "execution_count": null,
      "outputs": []
    },
    {
      "cell_type": "code",
      "metadata": {
        "colab_type": "code",
        "id": "zzF-DFqQymwh",
        "colab": {}
      },
      "source": [
        "feat_selection.to_csv('final_feat_sel2.csv')"
      ],
      "execution_count": null,
      "outputs": []
    },
    {
      "cell_type": "markdown",
      "metadata": {
        "colab_type": "text",
        "id": "ixU3y0q7ymxL"
      },
      "source": [
        "#### Creating dummies "
      ]
    },
    {
      "cell_type": "code",
      "metadata": {
        "id": "Ivev4wt7VYXy",
        "colab_type": "code",
        "colab": {}
      },
      "source": [
        "credit_card = pd.concat([cc[num_features],cc[credit_card_cat_fin],cc.ln_total_spend], axis=1)"
      ],
      "execution_count": null,
      "outputs": []
    },
    {
      "cell_type": "code",
      "metadata": {
        "colab_type": "code",
        "id": "gg6M_YceymxM",
        "colab": {}
      },
      "source": [
        "def create_dummies(df, colname):\n",
        "    \n",
        "    col_dummies = pd.get_dummies(df[colname], prefix = colname, drop_first = True)\n",
        "    \n",
        "    df = pd.concat([df, col_dummies], axis = 1)\n",
        "    df.drop(colname, axis = 1, inplace = True )\n",
        "    return df"
      ],
      "execution_count": null,
      "outputs": []
    },
    {
      "cell_type": "code",
      "metadata": {
        "colab_type": "code",
        "id": "IeTLi9u9ymxP",
        "colab": {}
      },
      "source": [
        "for c_feature in ['card','card2','reason','polview','jobcat','internet','hometype','jobsat','bfast']:\n",
        "    credit_card[c_feature] = credit_card[c_feature].astype('category')\n",
        "    credit_card = create_dummies(credit_card, c_feature)"
      ],
      "execution_count": null,
      "outputs": []
    },
    {
      "cell_type": "markdown",
      "metadata": {
        "colab_type": "text",
        "id": "Tvtzo_Fsymwl"
      },
      "source": [
        "### VIF"
      ]
    },
    {
      "cell_type": "code",
      "metadata": {
        "colab_type": "code",
        "id": "R26Ko3y0ymwl",
        "colab": {}
      },
      "source": [
        "# import the packages for vif - Variance Inflation factor\n",
        "from statsmodels.stats.outliers_influence import variance_inflation_factor\n",
        "from patsy import dmatrices"
      ],
      "execution_count": null,
      "outputs": []
    },
    {
      "cell_type": "code",
      "metadata": {
        "colab_type": "code",
        "id": "VCfr2RQ4ymwo",
        "colab": {}
      },
      "source": [
        "model_param = 'ln_total_spend ~ ' + ' + '.join(credit_card.columns.difference(['ln_total_spend']))"
      ],
      "execution_count": null,
      "outputs": []
    },
    {
      "cell_type": "code",
      "metadata": {
        "colab_type": "code",
        "id": "79BxZc2Iymwr",
        "colab": {},
        "outputId": "e7f3a9a3-61ed-45eb-bd93-00686701745a"
      },
      "source": [
        "model_param"
      ],
      "execution_count": null,
      "outputs": [
        {
          "output_type": "execute_result",
          "data": {
            "text/plain": [
              "'ln_total_spend ~ bfast_2 + bfast_3 + callid + callwait + card2_2 + card2_3 + card2_4 + card2_5 + card_2 + card_3 + card_4 + card_5 + carown + confer + ebill + ed + equip + forward + gender + homeown + hometype_2 + hometype_3 + hometype_4 + internet_1 + internet_2 + internet_3 + internet_4 + jobcat_2 + jobcat_3 + jobcat_4 + jobcat_5 + jobcat_6 + jobsat_2 + jobsat_3 + jobsat_4 + jobsat_5 + ln_address + ln_cardmon + ln_creddebt + ln_employ + ln_hourstv + ln_income + ln_longmon + ln_othdebt + ln_tenure + ln_tollten + ln_wiremon + multline + owncd + owndvd + ownfax + owngame + ownipod + ownpc + ownpda + owntv + ownvcr + pager + polcontrib + polview_2 + polview_3 + polview_4 + polview_5 + polview_6 + polview_7 + reason_2 + reason_3 + reason_4 + reason_9 + response_03 + retire + sq_cars + sq_debtinc + sq_equipmon + sq_equipten + sq_spoused + sq_tollmon + sqrt_cardten + tollfree + voice + vote + wireless'"
            ]
          },
          "metadata": {
            "tags": []
          },
          "execution_count": 111
        }
      ]
    },
    {
      "cell_type": "code",
      "metadata": {
        "colab_type": "code",
        "id": "PToWBe-Pymwv",
        "colab": {}
      },
      "source": [
        "model_param='''ln_total_spend ~ bfast_2 + bfast_3 + callid + callwait + card2_2 + card2_3 + card2_4 + card2_5 + card_2 + card_3 + card_4 + \n",
        "card_5 + carown + confer + ebill + ed + equip + forward + gender + homeown + hometype_2 + hometype_3 + hometype_4 + \n",
        "internet_1 + internet_2 + internet_3 + internet_4 + jobcat_2 + jobcat_3 + jobcat_4 + jobcat_5 + jobcat_6 + jobsat_2 + \n",
        "jobsat_3 + jobsat_4 + jobsat_5 + ln_address + ln_cardmon + ln_creddebt + ln_hourstv + ln_income + ln_longmon + ln_tenure + multline + owncd + owndvd + ownfax + owngame + ownipod + ownpc + ownpda\n",
        "+ ownvcr + pager + polcontrib + polview_2 + polview_3 + polview_5 + polview_6 + polview_7 + reason_2 + \n",
        "reason_3 + reason_4 + reason_9 + response_03 + retire + sq_cars + sq_debtinc + sq_equipten + sq_spoused + \n",
        "sq_tollmon + tollfree + voice + vote + wireless'''"
      ],
      "execution_count": null,
      "outputs": []
    },
    {
      "cell_type": "code",
      "metadata": {
        "colab_type": "code",
        "id": "Td2M88Wlymw4",
        "colab": {}
      },
      "source": [
        "y, X = dmatrices(model_param, credit_card, return_type = 'dataframe')"
      ],
      "execution_count": null,
      "outputs": []
    },
    {
      "cell_type": "code",
      "metadata": {
        "colab_type": "code",
        "id": "6KwJ9IFdymw9",
        "colab": {}
      },
      "source": [
        "vif = pd.DataFrame()\n",
        "vif['Features'] = X.columns\n",
        "vif['VIF Factor'] = [variance_inflation_factor(X.values, i) for i in range(X.shape[1])]"
      ],
      "execution_count": null,
      "outputs": []
    },
    {
      "cell_type": "code",
      "metadata": {
        "colab_type": "code",
        "id": "Ha_par8jymxA",
        "colab": {
          "base_uri": "https://localhost:8080/",
          "height": 1000
        },
        "outputId": "43a638b5-1d75-4d76-c688-2ec9c3f7c3ee"
      },
      "source": [
        "vif.sort_values(by='VIF Factor', ascending=False)"
      ],
      "execution_count": null,
      "outputs": [
        {
          "output_type": "execute_result",
          "data": {
            "text/html": [
              "<div>\n",
              "<style scoped>\n",
              "    .dataframe tbody tr th:only-of-type {\n",
              "        vertical-align: middle;\n",
              "    }\n",
              "\n",
              "    .dataframe tbody tr th {\n",
              "        vertical-align: top;\n",
              "    }\n",
              "\n",
              "    .dataframe thead th {\n",
              "        text-align: right;\n",
              "    }\n",
              "</style>\n",
              "<table border=\"1\" class=\"dataframe\">\n",
              "  <thead>\n",
              "    <tr style=\"text-align: right;\">\n",
              "      <th></th>\n",
              "      <th>Features</th>\n",
              "      <th>VIF Factor</th>\n",
              "    </tr>\n",
              "  </thead>\n",
              "  <tbody>\n",
              "    <tr>\n",
              "      <th>0</th>\n",
              "      <td>Intercept</td>\n",
              "      <td>183.411629</td>\n",
              "    </tr>\n",
              "    <tr>\n",
              "      <th>41</th>\n",
              "      <td>ln_income</td>\n",
              "      <td>3.603735</td>\n",
              "    </tr>\n",
              "    <tr>\n",
              "      <th>43</th>\n",
              "      <td>ln_tenure</td>\n",
              "      <td>3.277024</td>\n",
              "    </tr>\n",
              "    <tr>\n",
              "      <th>42</th>\n",
              "      <td>ln_longmon</td>\n",
              "      <td>2.958315</td>\n",
              "    </tr>\n",
              "    <tr>\n",
              "      <th>71</th>\n",
              "      <td>tollfree</td>\n",
              "      <td>2.690698</td>\n",
              "    </tr>\n",
              "    <tr>\n",
              "      <th>39</th>\n",
              "      <td>ln_creddebt</td>\n",
              "      <td>2.635156</td>\n",
              "    </tr>\n",
              "    <tr>\n",
              "      <th>50</th>\n",
              "      <td>ownpc</td>\n",
              "      <td>2.568679</td>\n",
              "    </tr>\n",
              "    <tr>\n",
              "      <th>74</th>\n",
              "      <td>wireless</td>\n",
              "      <td>2.538886</td>\n",
              "    </tr>\n",
              "    <tr>\n",
              "      <th>37</th>\n",
              "      <td>ln_address</td>\n",
              "      <td>2.502349</td>\n",
              "    </tr>\n",
              "    <tr>\n",
              "      <th>17</th>\n",
              "      <td>equip</td>\n",
              "      <td>2.470520</td>\n",
              "    </tr>\n",
              "    <tr>\n",
              "      <th>7</th>\n",
              "      <td>card2_4</td>\n",
              "      <td>2.307193</td>\n",
              "    </tr>\n",
              "    <tr>\n",
              "      <th>27</th>\n",
              "      <td>internet_4</td>\n",
              "      <td>2.291659</td>\n",
              "    </tr>\n",
              "    <tr>\n",
              "      <th>14</th>\n",
              "      <td>confer</td>\n",
              "      <td>2.280158</td>\n",
              "    </tr>\n",
              "    <tr>\n",
              "      <th>21</th>\n",
              "      <td>hometype_2</td>\n",
              "      <td>2.265864</td>\n",
              "    </tr>\n",
              "    <tr>\n",
              "      <th>3</th>\n",
              "      <td>callid</td>\n",
              "      <td>2.237163</td>\n",
              "    </tr>\n",
              "    <tr>\n",
              "      <th>70</th>\n",
              "      <td>sq_tollmon</td>\n",
              "      <td>2.230240</td>\n",
              "    </tr>\n",
              "    <tr>\n",
              "      <th>11</th>\n",
              "      <td>card_4</td>\n",
              "      <td>2.211999</td>\n",
              "    </tr>\n",
              "    <tr>\n",
              "      <th>65</th>\n",
              "      <td>retire</td>\n",
              "      <td>2.211918</td>\n",
              "    </tr>\n",
              "    <tr>\n",
              "      <th>53</th>\n",
              "      <td>pager</td>\n",
              "      <td>2.207973</td>\n",
              "    </tr>\n",
              "    <tr>\n",
              "      <th>4</th>\n",
              "      <td>callwait</td>\n",
              "      <td>2.190621</td>\n",
              "    </tr>\n",
              "    <tr>\n",
              "      <th>6</th>\n",
              "      <td>card2_3</td>\n",
              "      <td>2.186980</td>\n",
              "    </tr>\n",
              "    <tr>\n",
              "      <th>20</th>\n",
              "      <td>homeown</td>\n",
              "      <td>2.175148</td>\n",
              "    </tr>\n",
              "    <tr>\n",
              "      <th>18</th>\n",
              "      <td>forward</td>\n",
              "      <td>2.174520</td>\n",
              "    </tr>\n",
              "    <tr>\n",
              "      <th>72</th>\n",
              "      <td>voice</td>\n",
              "      <td>2.163380</td>\n",
              "    </tr>\n",
              "    <tr>\n",
              "      <th>5</th>\n",
              "      <td>card2_2</td>\n",
              "      <td>2.108435</td>\n",
              "    </tr>\n",
              "    <tr>\n",
              "      <th>36</th>\n",
              "      <td>jobsat_5</td>\n",
              "      <td>2.074961</td>\n",
              "    </tr>\n",
              "    <tr>\n",
              "      <th>35</th>\n",
              "      <td>jobsat_4</td>\n",
              "      <td>1.990465</td>\n",
              "    </tr>\n",
              "    <tr>\n",
              "      <th>9</th>\n",
              "      <td>card_2</td>\n",
              "      <td>1.987870</td>\n",
              "    </tr>\n",
              "    <tr>\n",
              "      <th>26</th>\n",
              "      <td>internet_3</td>\n",
              "      <td>1.981170</td>\n",
              "    </tr>\n",
              "    <tr>\n",
              "      <th>10</th>\n",
              "      <td>card_3</td>\n",
              "      <td>1.971427</td>\n",
              "    </tr>\n",
              "    <tr>\n",
              "      <th>63</th>\n",
              "      <td>reason_9</td>\n",
              "      <td>1.932625</td>\n",
              "    </tr>\n",
              "    <tr>\n",
              "      <th>24</th>\n",
              "      <td>internet_1</td>\n",
              "      <td>1.921433</td>\n",
              "    </tr>\n",
              "    <tr>\n",
              "      <th>68</th>\n",
              "      <td>sq_equipten</td>\n",
              "      <td>1.915885</td>\n",
              "    </tr>\n",
              "    <tr>\n",
              "      <th>34</th>\n",
              "      <td>jobsat_3</td>\n",
              "      <td>1.913585</td>\n",
              "    </tr>\n",
              "    <tr>\n",
              "      <th>1</th>\n",
              "      <td>bfast_2</td>\n",
              "      <td>1.870371</td>\n",
              "    </tr>\n",
              "    <tr>\n",
              "      <th>15</th>\n",
              "      <td>ebill</td>\n",
              "      <td>1.868554</td>\n",
              "    </tr>\n",
              "    <tr>\n",
              "      <th>25</th>\n",
              "      <td>internet_2</td>\n",
              "      <td>1.856427</td>\n",
              "    </tr>\n",
              "    <tr>\n",
              "      <th>16</th>\n",
              "      <td>ed</td>\n",
              "      <td>1.806235</td>\n",
              "    </tr>\n",
              "    <tr>\n",
              "      <th>33</th>\n",
              "      <td>jobsat_2</td>\n",
              "      <td>1.763377</td>\n",
              "    </tr>\n",
              "    <tr>\n",
              "      <th>60</th>\n",
              "      <td>reason_2</td>\n",
              "      <td>1.679727</td>\n",
              "    </tr>\n",
              "    <tr>\n",
              "      <th>51</th>\n",
              "      <td>ownpda</td>\n",
              "      <td>1.669975</td>\n",
              "    </tr>\n",
              "    <tr>\n",
              "      <th>38</th>\n",
              "      <td>ln_cardmon</td>\n",
              "      <td>1.666218</td>\n",
              "    </tr>\n",
              "    <tr>\n",
              "      <th>47</th>\n",
              "      <td>ownfax</td>\n",
              "      <td>1.663009</td>\n",
              "    </tr>\n",
              "    <tr>\n",
              "      <th>44</th>\n",
              "      <td>multline</td>\n",
              "      <td>1.653090</td>\n",
              "    </tr>\n",
              "    <tr>\n",
              "      <th>67</th>\n",
              "      <td>sq_debtinc</td>\n",
              "      <td>1.608799</td>\n",
              "    </tr>\n",
              "    <tr>\n",
              "      <th>52</th>\n",
              "      <td>ownvcr</td>\n",
              "      <td>1.599609</td>\n",
              "    </tr>\n",
              "    <tr>\n",
              "      <th>46</th>\n",
              "      <td>owndvd</td>\n",
              "      <td>1.570740</td>\n",
              "    </tr>\n",
              "    <tr>\n",
              "      <th>28</th>\n",
              "      <td>jobcat_2</td>\n",
              "      <td>1.564249</td>\n",
              "    </tr>\n",
              "    <tr>\n",
              "      <th>45</th>\n",
              "      <td>owncd</td>\n",
              "      <td>1.557969</td>\n",
              "    </tr>\n",
              "    <tr>\n",
              "      <th>48</th>\n",
              "      <td>owngame</td>\n",
              "      <td>1.514706</td>\n",
              "    </tr>\n",
              "    <tr>\n",
              "      <th>49</th>\n",
              "      <td>ownipod</td>\n",
              "      <td>1.477557</td>\n",
              "    </tr>\n",
              "    <tr>\n",
              "      <th>8</th>\n",
              "      <td>card2_5</td>\n",
              "      <td>1.468947</td>\n",
              "    </tr>\n",
              "    <tr>\n",
              "      <th>2</th>\n",
              "      <td>bfast_3</td>\n",
              "      <td>1.451623</td>\n",
              "    </tr>\n",
              "    <tr>\n",
              "      <th>32</th>\n",
              "      <td>jobcat_6</td>\n",
              "      <td>1.392238</td>\n",
              "    </tr>\n",
              "    <tr>\n",
              "      <th>29</th>\n",
              "      <td>jobcat_3</td>\n",
              "      <td>1.306250</td>\n",
              "    </tr>\n",
              "    <tr>\n",
              "      <th>12</th>\n",
              "      <td>card_5</td>\n",
              "      <td>1.289792</td>\n",
              "    </tr>\n",
              "    <tr>\n",
              "      <th>58</th>\n",
              "      <td>polview_6</td>\n",
              "      <td>1.271265</td>\n",
              "    </tr>\n",
              "    <tr>\n",
              "      <th>31</th>\n",
              "      <td>jobcat_5</td>\n",
              "      <td>1.252067</td>\n",
              "    </tr>\n",
              "    <tr>\n",
              "      <th>40</th>\n",
              "      <td>ln_hourstv</td>\n",
              "      <td>1.234100</td>\n",
              "    </tr>\n",
              "    <tr>\n",
              "      <th>57</th>\n",
              "      <td>polview_5</td>\n",
              "      <td>1.229283</td>\n",
              "    </tr>\n",
              "    <tr>\n",
              "      <th>62</th>\n",
              "      <td>reason_4</td>\n",
              "      <td>1.223784</td>\n",
              "    </tr>\n",
              "    <tr>\n",
              "      <th>13</th>\n",
              "      <td>carown</td>\n",
              "      <td>1.218167</td>\n",
              "    </tr>\n",
              "    <tr>\n",
              "      <th>55</th>\n",
              "      <td>polview_2</td>\n",
              "      <td>1.217464</td>\n",
              "    </tr>\n",
              "    <tr>\n",
              "      <th>56</th>\n",
              "      <td>polview_3</td>\n",
              "      <td>1.190793</td>\n",
              "    </tr>\n",
              "    <tr>\n",
              "      <th>22</th>\n",
              "      <td>hometype_3</td>\n",
              "      <td>1.161950</td>\n",
              "    </tr>\n",
              "    <tr>\n",
              "      <th>69</th>\n",
              "      <td>sq_spoused</td>\n",
              "      <td>1.146042</td>\n",
              "    </tr>\n",
              "    <tr>\n",
              "      <th>30</th>\n",
              "      <td>jobcat_4</td>\n",
              "      <td>1.133888</td>\n",
              "    </tr>\n",
              "    <tr>\n",
              "      <th>61</th>\n",
              "      <td>reason_3</td>\n",
              "      <td>1.129951</td>\n",
              "    </tr>\n",
              "    <tr>\n",
              "      <th>23</th>\n",
              "      <td>hometype_4</td>\n",
              "      <td>1.095290</td>\n",
              "    </tr>\n",
              "    <tr>\n",
              "      <th>59</th>\n",
              "      <td>polview_7</td>\n",
              "      <td>1.064842</td>\n",
              "    </tr>\n",
              "    <tr>\n",
              "      <th>73</th>\n",
              "      <td>vote</td>\n",
              "      <td>1.062601</td>\n",
              "    </tr>\n",
              "    <tr>\n",
              "      <th>54</th>\n",
              "      <td>polcontrib</td>\n",
              "      <td>1.059493</td>\n",
              "    </tr>\n",
              "    <tr>\n",
              "      <th>64</th>\n",
              "      <td>response_03</td>\n",
              "      <td>1.034608</td>\n",
              "    </tr>\n",
              "    <tr>\n",
              "      <th>19</th>\n",
              "      <td>gender</td>\n",
              "      <td>1.026187</td>\n",
              "    </tr>\n",
              "    <tr>\n",
              "      <th>66</th>\n",
              "      <td>sq_cars</td>\n",
              "      <td>1.016271</td>\n",
              "    </tr>\n",
              "  </tbody>\n",
              "</table>\n",
              "</div>"
            ],
            "text/plain": [
              "       Features  VIF Factor\n",
              "0     Intercept  183.411629\n",
              "41    ln_income    3.603735\n",
              "43    ln_tenure    3.277024\n",
              "42   ln_longmon    2.958315\n",
              "71     tollfree    2.690698\n",
              "39  ln_creddebt    2.635156\n",
              "50        ownpc    2.568679\n",
              "74     wireless    2.538886\n",
              "37   ln_address    2.502349\n",
              "17        equip    2.470520\n",
              "7       card2_4    2.307193\n",
              "27   internet_4    2.291659\n",
              "14       confer    2.280158\n",
              "21   hometype_2    2.265864\n",
              "3        callid    2.237163\n",
              "70   sq_tollmon    2.230240\n",
              "11       card_4    2.211999\n",
              "65       retire    2.211918\n",
              "53        pager    2.207973\n",
              "4      callwait    2.190621\n",
              "6       card2_3    2.186980\n",
              "20      homeown    2.175148\n",
              "18      forward    2.174520\n",
              "72        voice    2.163380\n",
              "5       card2_2    2.108435\n",
              "36     jobsat_5    2.074961\n",
              "35     jobsat_4    1.990465\n",
              "9        card_2    1.987870\n",
              "26   internet_3    1.981170\n",
              "10       card_3    1.971427\n",
              "63     reason_9    1.932625\n",
              "24   internet_1    1.921433\n",
              "68  sq_equipten    1.915885\n",
              "34     jobsat_3    1.913585\n",
              "1       bfast_2    1.870371\n",
              "15        ebill    1.868554\n",
              "25   internet_2    1.856427\n",
              "16           ed    1.806235\n",
              "33     jobsat_2    1.763377\n",
              "60     reason_2    1.679727\n",
              "51       ownpda    1.669975\n",
              "38   ln_cardmon    1.666218\n",
              "47       ownfax    1.663009\n",
              "44     multline    1.653090\n",
              "67   sq_debtinc    1.608799\n",
              "52       ownvcr    1.599609\n",
              "46       owndvd    1.570740\n",
              "28     jobcat_2    1.564249\n",
              "45        owncd    1.557969\n",
              "48      owngame    1.514706\n",
              "49      ownipod    1.477557\n",
              "8       card2_5    1.468947\n",
              "2       bfast_3    1.451623\n",
              "32     jobcat_6    1.392238\n",
              "29     jobcat_3    1.306250\n",
              "12       card_5    1.289792\n",
              "58    polview_6    1.271265\n",
              "31     jobcat_5    1.252067\n",
              "40   ln_hourstv    1.234100\n",
              "57    polview_5    1.229283\n",
              "62     reason_4    1.223784\n",
              "13       carown    1.218167\n",
              "55    polview_2    1.217464\n",
              "56    polview_3    1.190793\n",
              "22   hometype_3    1.161950\n",
              "69   sq_spoused    1.146042\n",
              "30     jobcat_4    1.133888\n",
              "61     reason_3    1.129951\n",
              "23   hometype_4    1.095290\n",
              "59    polview_7    1.064842\n",
              "73         vote    1.062601\n",
              "54   polcontrib    1.059493\n",
              "64  response_03    1.034608\n",
              "19       gender    1.026187\n",
              "66      sq_cars    1.016271"
            ]
          },
          "metadata": {
            "tags": []
          },
          "execution_count": 39
        }
      ]
    },
    {
      "cell_type": "code",
      "metadata": {
        "colab_type": "code",
        "id": "PzgioPqLymxD",
        "colab": {}
      },
      "source": [
        "features = credit_card[list(vif.Features[1:])]"
      ],
      "execution_count": null,
      "outputs": []
    },
    {
      "cell_type": "code",
      "metadata": {
        "colab_type": "code",
        "id": "XdUdkgthymxG",
        "colab": {}
      },
      "source": [
        "features = credit_card[list(vif.Features[1:])]\n",
        "target = credit_card.ln_total_spend\n",
        "F_values, p_values  = f_regression( features, target )"
      ],
      "execution_count": null,
      "outputs": []
    },
    {
      "cell_type": "code",
      "metadata": {
        "id": "OnyCvwHMVYYZ",
        "colab_type": "code",
        "colab": {}
      },
      "source": [
        "F_Regression_results = pd.concat([pd.Series(features.columns), \n",
        "                            pd.Series(F_values), pd.Series(p_values).round(5)], axis = 1)\n",
        "\n",
        "# add the column names\n",
        "F_Regression_results.columns = ['Feature', 'F_value', 'p_value']"
      ],
      "execution_count": null,
      "outputs": []
    },
    {
      "cell_type": "code",
      "metadata": {
        "id": "rUsee5jwVYYc",
        "colab_type": "code",
        "colab": {}
      },
      "source": [
        "F_Regression_results.sort_values(by  = 'F_value',ascending=False,inplace=True)"
      ],
      "execution_count": null,
      "outputs": []
    },
    {
      "cell_type": "code",
      "metadata": {
        "id": "SFy1lNdCVYYe",
        "colab_type": "code",
        "colab": {}
      },
      "source": [
        "final_features = list(F_Regression_results.head(15).Feature)"
      ],
      "execution_count": null,
      "outputs": []
    },
    {
      "cell_type": "markdown",
      "metadata": {
        "colab_type": "text",
        "id": "kdz_vD6OymxW"
      },
      "source": [
        "### Building Linear regression Model"
      ]
    },
    {
      "cell_type": "code",
      "metadata": {
        "colab_type": "code",
        "id": "-2ra1WydymxW",
        "colab": {}
      },
      "source": [
        "import statsmodels.formula.api as smf\n",
        "from sklearn.metrics import mean_squared_error, mean_absolute_error"
      ],
      "execution_count": null,
      "outputs": []
    },
    {
      "cell_type": "code",
      "metadata": {
        "colab_type": "code",
        "id": "SKr7_WVeymxa",
        "colab": {}
      },
      "source": [
        "#divide the data into training and testing for smf\n",
        "train, test = train_test_split(pd.concat([credit_card.ln_total_spend,credit_card[final_features]],axis=1)\n",
        "                               , test_size = 0.3, random_state = 132)"
      ],
      "execution_count": null,
      "outputs": []
    },
    {
      "cell_type": "code",
      "metadata": {
        "colab_type": "code",
        "id": "-pnwWj2Aymxd",
        "colab": {},
        "outputId": "e78c3954-9b76-45a1-d0b5-9bdcdaae1bbb"
      },
      "source": [
        "# verify the no of obs in training and testing after split\n",
        "print('No of obs in training: ', len(train), ' | ', 'No of obs in testing: ', len(test))"
      ],
      "execution_count": null,
      "outputs": [
        {
          "output_type": "stream",
          "text": [
            "No of obs in training:  3500  |  No of obs in testing:  1500\n"
          ],
          "name": "stdout"
        }
      ]
    },
    {
      "cell_type": "code",
      "metadata": {
        "colab_type": "code",
        "id": "LnFlZu-4ymxg",
        "colab": {}
      },
      "source": [
        "formula_m0 = 'ln_total_spend ~ ' + ' + '.join(credit_card[final_features])"
      ],
      "execution_count": null,
      "outputs": []
    },
    {
      "cell_type": "code",
      "metadata": {
        "colab_type": "code",
        "id": "OZfsQbSmymxj",
        "colab": {},
        "outputId": "835bacb7-9a58-40fb-ff96-5c6b8e885a58"
      },
      "source": [
        "formula_m0"
      ],
      "execution_count": null,
      "outputs": [
        {
          "output_type": "execute_result",
          "data": {
            "text/plain": [
              "'ln_total_spend ~ ln_income + ln_creddebt + retire + owndvd + carown + ownvcr + reason_2 + owncd + card_2 + card_3 + ed + ln_address + card2_3 + sq_equipten + gender + card2_2 + sq_tollmon + jobcat_2 + ln_hourstv + wireless + card_4 + ownpda + homeown + hometype_2 + ownfax + response_03 + ln_tenure + card2_4 + pager + callwait + vote + callid + internet_4 + confer + tollfree + card2_5 + equip + forward + reason_4 + card_5 + internet_3 + multline + jobsat_5 + voice + ln_longmon + ownpc + jobcat_3 + bfast_3 + owngame + ownipod + sq_spoused + bfast_2 + polview_6 + polcontrib + ebill + jobsat_4 + hometype_3 + reason_3 + ln_cardmon + sq_debtinc + reason_9 + jobcat_4 + jobsat_3 + polview_3 + sq_cars + polview_7 + polview_2 + internet_1 + hometype_4 + internet_2 + polview_5 + jobcat_5 + jobsat_2 + jobcat_6'"
            ]
          },
          "metadata": {
            "tags": []
          },
          "execution_count": 230
        }
      ]
    },
    {
      "cell_type": "code",
      "metadata": {
        "colab_type": "code",
        "id": "Eh_i2aJ0ymxm",
        "colab": {}
      },
      "source": [
        "formula_m0 = '''ln_total_spend ~ ln_income   + reason_2  + card_2 + \n",
        "card_3 + card2_3  + gender + card2_2  + card_4 + card2_4 \n",
        "+ card2_5  + card_5  + bfast_2  + reason_9 '''"
      ],
      "execution_count": null,
      "outputs": []
    },
    {
      "cell_type": "code",
      "metadata": {
        "colab_type": "code",
        "id": "nbfsvklXymxp",
        "colab": {},
        "outputId": "055f1074-b1f3-4e3b-be1f-41aa4c6e078c"
      },
      "source": [
        "lm0 = smf.ols( formula_m0, train ).fit()\n",
        "print(lm0.summary())"
      ],
      "execution_count": null,
      "outputs": [
        {
          "output_type": "stream",
          "text": [
            "                            OLS Regression Results                            \n",
            "==============================================================================\n",
            "Dep. Variable:         ln_total_spend   R-squared:                       0.343\n",
            "Model:                            OLS   Adj. R-squared:                  0.340\n",
            "Method:                 Least Squares   F-statistic:                     140.0\n",
            "Date:                Sat, 20 Jun 2020   Prob (F-statistic):          8.16e-306\n",
            "Time:                        16:20:10   Log-Likelihood:                -2686.8\n",
            "No. Observations:                3500   AIC:                             5402.\n",
            "Df Residuals:                    3486   BIC:                             5488.\n",
            "Df Model:                          13                                         \n",
            "Covariance Type:            nonrobust                                         \n",
            "==============================================================================\n",
            "                 coef    std err          t      P>|t|      [0.025      0.975]\n",
            "------------------------------------------------------------------------------\n",
            "Intercept      5.4890      0.065     84.957      0.000       5.362       5.616\n",
            "ln_income      0.3425      0.013     27.385      0.000       0.318       0.367\n",
            "reason_2       0.3633      0.042      8.555      0.000       0.280       0.447\n",
            "card_2        -0.5491      0.028    -19.280      0.000      -0.605      -0.493\n",
            "card_3        -0.5968      0.029    -20.896      0.000      -0.653      -0.541\n",
            "card2_3       -0.4099      0.029    -14.067      0.000      -0.467      -0.353\n",
            "gender        -0.0625      0.018     -3.514      0.000      -0.097      -0.028\n",
            "card2_2       -0.3923      0.029    -13.571      0.000      -0.449      -0.336\n",
            "card_4        -0.6773      0.029    -23.029      0.000      -0.735      -0.620\n",
            "card2_4       -0.4663      0.032    -14.636      0.000      -0.529      -0.404\n",
            "card2_5       -0.2761      0.042     -6.507      0.000      -0.359      -0.193\n",
            "card_5        -0.4805      0.047    -10.221      0.000      -0.573      -0.388\n",
            "bfast_2       -0.0494      0.019     -2.582      0.010      -0.087      -0.012\n",
            "reason_9       0.1172      0.027      4.281      0.000       0.064       0.171\n",
            "==============================================================================\n",
            "Omnibus:                       60.131   Durbin-Watson:                   2.016\n",
            "Prob(Omnibus):                  0.000   Jarque-Bera (JB):               62.831\n",
            "Skew:                          -0.325   Prob(JB):                     2.27e-14\n",
            "Kurtosis:                       3.088   Cond. No.                         35.9\n",
            "==============================================================================\n",
            "\n",
            "Warnings:\n",
            "[1] Standard Errors assume that the covariance matrix of the errors is correctly specified.\n"
          ],
          "name": "stdout"
        }
      ]
    },
    {
      "cell_type": "code",
      "metadata": {
        "colab_type": "code",
        "id": "4Qa6RJNAymxs",
        "colab": {}
      },
      "source": [
        "train.loc[:, 'pred_total_spend'] = lm0.predict(train)\n",
        "\n",
        "test.loc[:, 'pred_total_spend'] =  lm0.predict(test)"
      ],
      "execution_count": null,
      "outputs": []
    },
    {
      "cell_type": "code",
      "metadata": {
        "colab_type": "code",
        "id": "3U4jyidcymxu",
        "colab": {},
        "outputId": "190da21a-83c8-4021-da48-0e1f8e7f9461"
      },
      "source": [
        "MAE_train = mean_absolute_error(train.ln_total_spend, train.pred_total_spend)\n",
        "MAE_test = mean_absolute_error(test.ln_total_spend, test.pred_total_spend)\n",
        "\n",
        "# print the values of MAE for train and test\n",
        "print('MAE of training data: ', MAE_train,  ' | ', 'MAE of testing data: ', MAE_test)"
      ],
      "execution_count": null,
      "outputs": [
        {
          "output_type": "stream",
          "text": [
            "MAE of training data:  0.4142153387584131  |  MAE of testing data:  0.40193405454707515\n"
          ],
          "name": "stdout"
        }
      ]
    },
    {
      "cell_type": "code",
      "metadata": {
        "colab_type": "code",
        "id": "eiQ7vx_xymxx",
        "colab": {},
        "outputId": "67c276e7-2492-4530-9275-c746ef914d69"
      },
      "source": [
        "# b) accuracy metrics (a. MAPE: Mean Absolute Percentage Error)\n",
        "MAPE_train = np.mean(np.abs(train['ln_total_spend'] - train['pred_total_spend'])/train['ln_total_spend'])\n",
        "MAPE_test = np.mean(np.abs(test['ln_total_spend'] - test['pred_total_spend'])/test['ln_total_spend'])\n",
        "\n",
        "# print the values of MAPE for train and test\n",
        "print('MAPE of training data: ', MAPE_train,  ' | ', 'MAPE of testing data: ', MAPE_test)"
      ],
      "execution_count": null,
      "outputs": [
        {
          "output_type": "stream",
          "text": [
            "MAPE of training data:  0.07142573944747106  |  MAPE of testing data:  0.06993442050306417\n"
          ],
          "name": "stdout"
        }
      ]
    },
    {
      "cell_type": "markdown",
      "metadata": {
        "colab_type": "text",
        "id": "V1x-yz_-ymx2"
      },
      "source": [
        "### Random Forest"
      ]
    },
    {
      "cell_type": "code",
      "metadata": {
        "colab_type": "code",
        "id": "pryQI4Q7ymx3",
        "colab": {}
      },
      "source": [
        "from sklearn.ensemble import RandomForestRegressor\n",
        "from sklearn.model_selection import GridSearchCV\n",
        "from sklearn.metrics import r2_score"
      ],
      "execution_count": null,
      "outputs": []
    },
    {
      "cell_type": "code",
      "metadata": {
        "colab_type": "code",
        "id": "MRpaDZ9eymyU",
        "colab": {}
      },
      "source": [
        "features = ['card','retire','card2','owndvd','carown','ownvcr','reason','polview','owncd','owntv'\n",
        "            ,'employ','income','creddebt','othdebt','ed']"
      ],
      "execution_count": null,
      "outputs": []
    },
    {
      "cell_type": "code",
      "metadata": {
        "colab_type": "code",
        "id": "_Jxoo1iEoDLU",
        "colab": {
          "base_uri": "https://localhost:8080/",
          "height": 119
        },
        "outputId": "464243ee-6ec8-459e-ac3c-153ba97d38c7"
      },
      "source": [
        "for c_feature in ['card','card2','reason','polview']:\n",
        "    rf_cc[c_feature] = rf_cc[c_feature].astype('category')\n",
        "    rf_cc = create_dummies(rf_cc, c_feature)"
      ],
      "execution_count": null,
      "outputs": [
        {
          "output_type": "stream",
          "text": [
            "/usr/local/lib/python3.6/dist-packages/ipykernel_launcher.py:2: SettingWithCopyWarning: \n",
            "A value is trying to be set on a copy of a slice from a DataFrame.\n",
            "Try using .loc[row_indexer,col_indexer] = value instead\n",
            "\n",
            "See the caveats in the documentation: https://pandas.pydata.org/pandas-docs/stable/user_guide/indexing.html#returning-a-view-versus-a-copy\n",
            "  \n"
          ],
          "name": "stderr"
        }
      ]
    },
    {
      "cell_type": "code",
      "metadata": {
        "colab_type": "code",
        "id": "bvLsU97bymyW",
        "colab": {}
      },
      "source": [
        "rf_cc = cc[features]"
      ],
      "execution_count": null,
      "outputs": []
    },
    {
      "cell_type": "code",
      "metadata": {
        "colab_type": "code",
        "id": "CnjchpwEymyb",
        "colab": {}
      },
      "source": [
        "train_x, test_x, train_y, test_y = train_test_split(credit_card[final_features], credit_card.ln_total_spend,\n",
        "                                                    test_size=0.3, random_state=67)"
      ],
      "execution_count": null,
      "outputs": []
    },
    {
      "cell_type": "markdown",
      "metadata": {
        "colab_type": "text",
        "id": "-wg2UDpZymyd"
      },
      "source": [
        "### Tuning the parameters"
      ]
    },
    {
      "cell_type": "code",
      "metadata": {
        "colab_type": "code",
        "id": "aHcyFADWymye",
        "colab": {
          "base_uri": "https://localhost:8080/",
          "height": 54
        },
        "outputId": "5f39447d-60db-4419-f3d5-56ea548cf15f"
      },
      "source": [
        "# Number of trees in random forest\n",
        "n_estimators = [int(x) for x in np.linspace(start = 200, stop = 2000, num = 10)]\n",
        "# Number of features to consider at every split\n",
        "max_features = ['auto', 'sqrt']\n",
        "# Maximum number of levels in tree\n",
        "max_depth = [int(x) for x in np.linspace(10, 110, num = 11)]\n",
        "max_depth.append(None)\n",
        "# Minimum number of samples required to split a node\n",
        "min_samples_split = [2, 5, 10]\n",
        "# Minimum number of samples required at each leaf node\n",
        "min_samples_leaf = [1, 2, 4]\n",
        "# Method of selecting samples for training each tree\n",
        "bootstrap = [True, False]\n",
        "# Create the random grid\n",
        "random_grid = {'n_estimators': n_estimators,\n",
        "               'max_features': max_features,\n",
        "               'max_depth': max_depth,\n",
        "               'min_samples_split': min_samples_split,\n",
        "               'min_samples_leaf': min_samples_leaf,\n",
        "               'bootstrap': bootstrap}\n",
        "print(random_grid)"
      ],
      "execution_count": null,
      "outputs": [
        {
          "output_type": "stream",
          "text": [
            "{'n_estimators': [200, 400, 600, 800, 1000, 1200, 1400, 1600, 1800, 2000], 'max_features': ['auto', 'sqrt'], 'max_depth': [10, 20, 30, 40, 50, 60, 70, 80, 90, 100, 110, None], 'min_samples_split': [2, 5, 10], 'min_samples_leaf': [1, 2, 4], 'bootstrap': [True, False]}\n"
          ],
          "name": "stdout"
        }
      ]
    },
    {
      "cell_type": "code",
      "metadata": {
        "colab_type": "code",
        "id": "xem3vjKwymyi",
        "colab": {
          "base_uri": "https://localhost:8080/",
          "height": 632
        },
        "outputId": "43668cf9-90eb-444b-966b-1edc9b8af1e8"
      },
      "source": [
        "from sklearn.ensemble import RandomForestRegressor\n",
        "from sklearn.model_selection import RandomizedSearchCV\n",
        "# Use the random grid to search for best hyperparameters\n",
        "# First create the base model to tune\n",
        "rf = RandomForestRegressor()\n",
        "# Random search of parameters, using 3 fold cross validation, \n",
        "# search across 100 different combinations, and use all available cores\n",
        "rf_random = RandomizedSearchCV(estimator = rf, param_distributions = random_grid, n_iter = 100, cv = 4, verbose=2, random_state=100, n_jobs = -1)\n",
        "# Fit the random search model\n",
        "rf_random.fit(train_x, train_y)"
      ],
      "execution_count": null,
      "outputs": [
        {
          "output_type": "stream",
          "text": [
            "Fitting 4 folds for each of 100 candidates, totalling 400 fits\n"
          ],
          "name": "stdout"
        },
        {
          "output_type": "stream",
          "text": [
            "[Parallel(n_jobs=-1)]: Using backend LokyBackend with 2 concurrent workers.\n",
            "[Parallel(n_jobs=-1)]: Done  37 tasks      | elapsed:  5.0min\n",
            "[Parallel(n_jobs=-1)]: Done 158 tasks      | elapsed: 18.4min\n",
            "/usr/local/lib/python3.6/dist-packages/joblib/externals/loky/process_executor.py:691: UserWarning: A worker stopped while some jobs were given to the executor. This can be caused by a too short worker timeout or by a memory leak.\n",
            "  \"timeout or by a memory leak.\", UserWarning\n",
            "[Parallel(n_jobs=-1)]: Done 361 tasks      | elapsed: 39.2min\n",
            "[Parallel(n_jobs=-1)]: Done 400 out of 400 | elapsed: 43.7min finished\n"
          ],
          "name": "stderr"
        },
        {
          "output_type": "execute_result",
          "data": {
            "text/plain": [
              "RandomizedSearchCV(cv=4, error_score=nan,\n",
              "                   estimator=RandomForestRegressor(bootstrap=True,\n",
              "                                                   ccp_alpha=0.0,\n",
              "                                                   criterion='mse',\n",
              "                                                   max_depth=None,\n",
              "                                                   max_features='auto',\n",
              "                                                   max_leaf_nodes=None,\n",
              "                                                   max_samples=None,\n",
              "                                                   min_impurity_decrease=0.0,\n",
              "                                                   min_impurity_split=None,\n",
              "                                                   min_samples_leaf=1,\n",
              "                                                   min_samples_split=2,\n",
              "                                                   min_weight_fraction_leaf=0.0,\n",
              "                                                   n_estimators=100,\n",
              "                                                   n_jobs=None, oob_score=Fals...\n",
              "                   param_distributions={'bootstrap': [True, False],\n",
              "                                        'max_depth': [10, 20, 30, 40, 50, 60,\n",
              "                                                      70, 80, 90, 100, 110,\n",
              "                                                      None],\n",
              "                                        'max_features': ['auto', 'sqrt'],\n",
              "                                        'min_samples_leaf': [1, 2, 4],\n",
              "                                        'min_samples_split': [2, 5, 10],\n",
              "                                        'n_estimators': [200, 400, 600, 800,\n",
              "                                                         1000, 1200, 1400, 1600,\n",
              "                                                         1800, 2000]},\n",
              "                   pre_dispatch='2*n_jobs', random_state=100, refit=True,\n",
              "                   return_train_score=False, scoring=None, verbose=2)"
            ]
          },
          "metadata": {
            "tags": []
          },
          "execution_count": 49
        }
      ]
    },
    {
      "cell_type": "code",
      "metadata": {
        "colab_type": "code",
        "id": "9_N4w_r1ymyk",
        "colab": {
          "base_uri": "https://localhost:8080/",
          "height": 119
        },
        "outputId": "13dd395e-7963-42d4-8fbf-abf7a2f611b6"
      },
      "source": [
        "rf_random.best_params_"
      ],
      "execution_count": null,
      "outputs": [
        {
          "output_type": "execute_result",
          "data": {
            "text/plain": [
              "{'bootstrap': True,\n",
              " 'max_depth': 10,\n",
              " 'max_features': 'sqrt',\n",
              " 'min_samples_leaf': 4,\n",
              " 'min_samples_split': 2,\n",
              " 'n_estimators': 1600}"
            ]
          },
          "metadata": {
            "tags": []
          },
          "execution_count": 50
        }
      ]
    },
    {
      "cell_type": "code",
      "metadata": {
        "colab_type": "code",
        "id": "yma7_U1Cymyn",
        "colab": {
          "base_uri": "https://localhost:8080/",
          "height": 136
        },
        "outputId": "7b54481f-e64b-4ba6-d657-9eb7863be8d8"
      },
      "source": [
        "randm_reg = RandomForestRegressor(n_estimators=1600,min_samples_split= 2,min_samples_leaf= 4,max_features='sqrt',max_depth=10,bootstrap=True,n_jobs=-1)\n",
        "randm_reg.fit( train_x, train_y )"
      ],
      "execution_count": null,
      "outputs": [
        {
          "output_type": "execute_result",
          "data": {
            "text/plain": [
              "RandomForestRegressor(bootstrap=True, ccp_alpha=0.0, criterion='mse',\n",
              "                      max_depth=10, max_features='sqrt', max_leaf_nodes=None,\n",
              "                      max_samples=None, min_impurity_decrease=0.0,\n",
              "                      min_impurity_split=None, min_samples_leaf=4,\n",
              "                      min_samples_split=2, min_weight_fraction_leaf=0.0,\n",
              "                      n_estimators=1600, n_jobs=-1, oob_score=False,\n",
              "                      random_state=None, verbose=0, warm_start=False)"
            ]
          },
          "metadata": {
            "tags": []
          },
          "execution_count": 51
        }
      ]
    },
    {
      "cell_type": "code",
      "metadata": {
        "colab_type": "code",
        "id": "SCHXdf6Kymyp",
        "colab": {}
      },
      "source": [
        "def evaluate_train(model, train_features, train_labels):\n",
        "    radm_train_pred = pd.DataFrame( { 'actual':  train_y,\n",
        "                            'predicted': randm_reg.predict(train_x)})\n",
        "    r2=r2_score( radm_train_pred.actual, radm_train_pred.predicted )\n",
        "    MAPE_train = np.mean(np.abs(radm_train_pred.actual - radm_train_pred.predicted)/radm_train_pred.actual)*100\n",
        "    MAE_train = mean_absolute_error(radm_train_pred.actual, radm_train_pred.predicted)\n",
        "    accuracy = 100 - MAPE_train\n",
        "    print('Model Performance')\n",
        "    print('R2_score:',r2)\n",
        "    print('Average Error: {:0.4f} degrees.(MAE)'.format(MAE_train))\n",
        "    print('MAPE train data {:0.2f}'.format(MAPE_train))\n",
        "    print('Accuracy = {:0.2f}%. (100-MAPE)'.format(accuracy))\n",
        "    \n",
        "    return accuracy"
      ],
      "execution_count": null,
      "outputs": []
    },
    {
      "cell_type": "code",
      "metadata": {
        "colab_type": "code",
        "id": "oiBRivCRymyr",
        "colab": {
          "base_uri": "https://localhost:8080/",
          "height": 102
        },
        "outputId": "e87cc0be-7521-4cac-e1b9-073bdabfa3d4"
      },
      "source": [
        "train_accuracy = evaluate_train(randm_reg, train_x, train_y)"
      ],
      "execution_count": null,
      "outputs": [
        {
          "output_type": "stream",
          "text": [
            "Model Performance\n",
            "R2_score: 0.35944724042927134\n",
            "Average Error: 0.4010 degrees.(MAE)\n",
            "MAPE train data 6.91\n",
            "Accuracy = 93.09%. (100-MAPE)\n"
          ],
          "name": "stdout"
        }
      ]
    },
    {
      "cell_type": "code",
      "metadata": {
        "colab_type": "code",
        "id": "5pVDgYd8ymyu",
        "colab": {}
      },
      "source": [
        "def evaluate(model, test_features, test_labels):\n",
        "    predictions = model.predict(test_features)\n",
        "    radm_test_pred = pd.DataFrame( { 'actual':  test_y,\n",
        "                            'predicted': randm_reg.predict(test_x)})\n",
        "    r2=r2_score( radm_test_pred.actual, radm_test_pred.predicted )\n",
        "    errors = abs(predictions - test_labels)\n",
        "    mape = 100 * np.mean(errors / test_labels)\n",
        "    accuracy = 100 - mape\n",
        "    print('R2_score:',r2)\n",
        "    print('Model Performance')\n",
        "    print('Average Error: {:0.4f} degrees.(MAE)'.format(np.mean(errors)))\n",
        "    print('MAPE TEST data {:0.2f}'.format(mape))\n",
        "    print('Accuracy = {:0.2f}%. (100-MAPE)'.format(accuracy))\n",
        "    \n",
        "    return accuracy"
      ],
      "execution_count": null,
      "outputs": []
    },
    {
      "cell_type": "code",
      "metadata": {
        "colab_type": "code",
        "id": "bxaQtWLOymyx",
        "colab": {
          "base_uri": "https://localhost:8080/",
          "height": 102
        },
        "outputId": "ff231989-b754-4ffc-ddf1-df3e5af9c88b"
      },
      "source": [
        "test_accuracy = evaluate(randm_reg, test_x, test_y)"
      ],
      "execution_count": null,
      "outputs": [
        {
          "output_type": "stream",
          "text": [
            "R2_score: 0.2000595497236496\n",
            "Model Performance\n",
            "Average Error: 0.4529 degrees.(MAE)\n",
            "MAPE TEST data 7.84\n",
            "Accuracy = 92.16%. (100-MAPE)\n"
          ],
          "name": "stdout"
        }
      ]
    },
    {
      "cell_type": "markdown",
      "metadata": {
        "id": "1N73_W1YFgyW",
        "colab_type": "text"
      },
      "source": [
        "**XGBOOST**\n"
      ]
    },
    {
      "cell_type": "code",
      "metadata": {
        "colab_type": "code",
        "id": "96hzBMGzymyz",
        "colab": {}
      },
      "source": [
        "from xgboost import XGBRegressor"
      ],
      "execution_count": null,
      "outputs": []
    },
    {
      "cell_type": "code",
      "metadata": {
        "id": "RdVJs1t4FnvE",
        "colab_type": "code",
        "colab": {}
      },
      "source": [
        "estimat = XGBRegressor(\n",
        "    nthread=4,\n",
        "    seed=42\n",
        ")"
      ],
      "execution_count": null,
      "outputs": []
    },
    {
      "cell_type": "code",
      "metadata": {
        "id": "SkigqChCFseF",
        "colab_type": "code",
        "colab": {
          "base_uri": "https://localhost:8080/",
          "height": 54
        },
        "outputId": "e2d36b42-6946-4268-c191-9d06314207bc"
      },
      "source": [
        "# Number of trees in random forest\n",
        "n_estimators = [int(x) for x in np.linspace(start = 200, stop = 2000, num = 10)]\n",
        "# Number of features to consider at every split\n",
        "max_features = ['auto', 'sqrt']\n",
        "# Maximum number of levels in tree\n",
        "max_depth = [int(x) for x in np.linspace(10, 110, num = 11)]\n",
        "max_depth.append(None)\n",
        "# Minimum number of samples required to split a node\n",
        "min_samples_split = [2, 5, 10]\n",
        "# Minimum number of samples required at each leaf node\n",
        "min_samples_leaf = [1, 2, 4]\n",
        "# Method of selecting samples for training each tree\n",
        "bootstrap = [True, False]\n",
        "learning_rate = [0.1, 0.01, 0.05]\n",
        "# Create the random grid\n",
        "random_grid = {'n_estimators': n_estimators,\n",
        "               'max_features': max_features,\n",
        "               'max_depth': max_depth,\n",
        "               'min_samples_split': min_samples_split,\n",
        "               'min_samples_leaf': min_samples_leaf,\n",
        "               'bootstrap': bootstrap,\n",
        "               'learning_rate': learning_rate}\n",
        "print(random_grid)"
      ],
      "execution_count": null,
      "outputs": [
        {
          "output_type": "stream",
          "text": [
            "{'n_estimators': [200, 400, 600, 800, 1000, 1200, 1400, 1600, 1800, 2000], 'max_features': ['auto', 'sqrt'], 'max_depth': [10, 20, 30, 40, 50, 60, 70, 80, 90, 100, 110, None], 'min_samples_split': [2, 5, 10], 'min_samples_leaf': [1, 2, 4], 'bootstrap': [True, False], 'learning_rate': [0.1, 0.01, 0.05]}\n"
          ],
          "name": "stdout"
        }
      ]
    },
    {
      "cell_type": "code",
      "metadata": {
        "id": "OfNmPXpLFsb5",
        "colab_type": "code",
        "colab": {
          "base_uri": "https://localhost:8080/",
          "height": 578
        },
        "outputId": "d130c9ba-0bd4-4f20-862e-88e68c1cb25d"
      },
      "source": [
        "\n",
        "# Random search of parameters, using 3 fold cross validation, \n",
        "# search across 100 different combinations, and use all available cores\n",
        "xgbreg = RandomizedSearchCV(estimator = estimat, param_distributions = random_grid, n_iter = 100, cv = 4, verbose=2, random_state=100, n_jobs = -1)\n",
        "# Fit the random search model\n",
        "xgbreg.fit(train_x, train_y)"
      ],
      "execution_count": null,
      "outputs": [
        {
          "output_type": "stream",
          "text": [
            "Fitting 4 folds for each of 100 candidates, totalling 400 fits\n"
          ],
          "name": "stdout"
        },
        {
          "output_type": "stream",
          "text": [
            "[Parallel(n_jobs=-1)]: Using backend LokyBackend with 2 concurrent workers.\n",
            "[Parallel(n_jobs=-1)]: Done  37 tasks      | elapsed:  3.0min\n",
            "[Parallel(n_jobs=-1)]: Done 158 tasks      | elapsed: 17.8min\n",
            "[Parallel(n_jobs=-1)]: Done 361 tasks      | elapsed: 52.5min\n",
            "[Parallel(n_jobs=-1)]: Done 400 out of 400 | elapsed: 58.0min finished\n"
          ],
          "name": "stderr"
        },
        {
          "output_type": "stream",
          "text": [
            "[17:11:39] WARNING: /workspace/src/objective/regression_obj.cu:152: reg:linear is now deprecated in favor of reg:squarederror.\n"
          ],
          "name": "stdout"
        },
        {
          "output_type": "execute_result",
          "data": {
            "text/plain": [
              "RandomizedSearchCV(cv=4, error_score=nan,\n",
              "                   estimator=XGBRegressor(base_score=0.5, booster='gbtree',\n",
              "                                          colsample_bylevel=1,\n",
              "                                          colsample_bynode=1,\n",
              "                                          colsample_bytree=1, gamma=0,\n",
              "                                          importance_type='gain',\n",
              "                                          learning_rate=0.1, max_delta_step=0,\n",
              "                                          max_depth=3, min_child_weight=1,\n",
              "                                          missing=None, n_estimators=100,\n",
              "                                          n_jobs=1, nthread=4,\n",
              "                                          objective='reg:linear',\n",
              "                                          random_state=0, reg_alpha=0,\n",
              "                                          r...\n",
              "                   param_distributions={'bootstrap': [True, False],\n",
              "                                        'learning_rate': [0.1, 0.01, 0.05],\n",
              "                                        'max_depth': [10, 20, 30, 40, 50, 60,\n",
              "                                                      70, 80, 90, 100, 110,\n",
              "                                                      None],\n",
              "                                        'max_features': ['auto', 'sqrt'],\n",
              "                                        'min_samples_leaf': [1, 2, 4],\n",
              "                                        'min_samples_split': [2, 5, 10],\n",
              "                                        'n_estimators': [200, 400, 600, 800,\n",
              "                                                         1000, 1200, 1400, 1600,\n",
              "                                                         1800, 2000]},\n",
              "                   pre_dispatch='2*n_jobs', random_state=100, refit=True,\n",
              "                   return_train_score=False, scoring=None, verbose=2)"
            ]
          },
          "metadata": {
            "tags": []
          },
          "execution_count": 61
        }
      ]
    },
    {
      "cell_type": "code",
      "metadata": {
        "id": "2SriaKk3FsXi",
        "colab_type": "code",
        "colab": {
          "base_uri": "https://localhost:8080/",
          "height": 136
        },
        "outputId": "491f0c55-b749-4a8f-b565-ea1791a9f258"
      },
      "source": [
        "xgbreg.best_params_"
      ],
      "execution_count": null,
      "outputs": [
        {
          "output_type": "execute_result",
          "data": {
            "text/plain": [
              "{'bootstrap': True,\n",
              " 'learning_rate': 0.01,\n",
              " 'max_depth': 30,\n",
              " 'max_features': 'auto',\n",
              " 'min_samples_leaf': 1,\n",
              " 'min_samples_split': 2,\n",
              " 'n_estimators': 1400}"
            ]
          },
          "metadata": {
            "tags": []
          },
          "execution_count": 62
        }
      ]
    },
    {
      "cell_type": "code",
      "metadata": {
        "id": "A_IegcuSFsUj",
        "colab_type": "code",
        "colab": {
          "base_uri": "https://localhost:8080/",
          "height": 187
        },
        "outputId": "132eccf2-9718-4126-c20a-403948a8740b"
      },
      "source": [
        "xgb_reg = XGBRegressor(n_estimators=1400,min_samples_split= 2,min_samples_leaf= 1,max_features='auto',max_depth=30,learning_rate=0.01,bootstrap=True,n_jobs=-1)\n",
        "xgb_reg.fit( train_x, train_y )"
      ],
      "execution_count": null,
      "outputs": [
        {
          "output_type": "stream",
          "text": [
            "[17:46:55] WARNING: /workspace/src/objective/regression_obj.cu:152: reg:linear is now deprecated in favor of reg:squarederror.\n"
          ],
          "name": "stdout"
        },
        {
          "output_type": "execute_result",
          "data": {
            "text/plain": [
              "XGBRegressor(base_score=0.5, booster='gbtree', bootstrap=True,\n",
              "             colsample_bylevel=1, colsample_bynode=1, colsample_bytree=1,\n",
              "             gamma=0, importance_type='gain', learning_rate=0.01,\n",
              "             max_delta_step=0, max_depth=30, max_features='auto',\n",
              "             min_child_weight=1, min_samples_leaf=1, min_samples_split=2,\n",
              "             missing=None, n_estimators=1400, n_jobs=-1, nthread=None,\n",
              "             objective='reg:linear', random_state=0, reg_alpha=0, reg_lambda=1,\n",
              "             scale_pos_weight=1, seed=None, silent=None, subsample=1,\n",
              "             verbosity=1)"
            ]
          },
          "metadata": {
            "tags": []
          },
          "execution_count": 63
        }
      ]
    },
    {
      "cell_type": "code",
      "metadata": {
        "id": "K1YKqgg1Fpxt",
        "colab_type": "code",
        "colab": {}
      },
      "source": [
        "def evaluate_train(model, train_features, train_labels):\n",
        "    radm_train_pred = pd.DataFrame( { 'actual':  train_y,\n",
        "                            'predicted': xgb_reg.predict(train_x)})\n",
        "    r2=r2_score( radm_train_pred.actual, radm_train_pred.predicted )\n",
        "    MAPE_train = np.mean(np.abs(radm_train_pred.actual - radm_train_pred.predicted)/radm_train_pred.actual)*100\n",
        "    MAE_train = mean_absolute_error(radm_train_pred.actual, radm_train_pred.predicted)\n",
        "    accuracy = 100 - MAPE_train\n",
        "    print('Model Performance')\n",
        "    print('R2_score:',r2)\n",
        "    print('Average Error: {:0.4f} degrees.(MAE)'.format(MAE_train))\n",
        "    print('MAPE train data {:0.2f}'.format(MAPE_train))\n",
        "    print('Accuracy = {:0.2f}%. (100-MAPE)'.format(accuracy))\n",
        "    \n",
        "    return accuracy"
      ],
      "execution_count": null,
      "outputs": []
    },
    {
      "cell_type": "code",
      "metadata": {
        "id": "Ts8IWEEbFpuP",
        "colab_type": "code",
        "colab": {
          "base_uri": "https://localhost:8080/",
          "height": 102
        },
        "outputId": "daea9d85-6cb1-4c7a-969b-7a9df4c03161"
      },
      "source": [
        "train_accuracy = evaluate_train(xgb_reg, train_x, train_y)"
      ],
      "execution_count": null,
      "outputs": [
        {
          "output_type": "stream",
          "text": [
            "Model Performance\n",
            "R2_score: 0.9999978074246566\n",
            "Average Error: 0.0006 degrees.(MAE)\n",
            "MAPE train data 0.01\n",
            "Accuracy = 99.99%. (100-MAPE)\n"
          ],
          "name": "stdout"
        }
      ]
    },
    {
      "cell_type": "code",
      "metadata": {
        "id": "FR4e1JcPFpq_",
        "colab_type": "code",
        "colab": {}
      },
      "source": [
        "def evaluate(model, test_features, test_labels):\n",
        "    predictions = model.predict(test_features)\n",
        "    radm_test_pred = pd.DataFrame( { 'actual':  test_y,\n",
        "                            'predicted': xgb_reg.predict(test_x)})\n",
        "    r2=r2_score( radm_test_pred.actual, radm_test_pred.predicted )\n",
        "    errors = abs(predictions - test_labels)\n",
        "    mape = 100 * np.mean(errors / test_labels)\n",
        "    accuracy = 100 - mape\n",
        "    print('R2_score:',r2)\n",
        "    print('Model Performance')\n",
        "    print('Average Error: {:0.4f} degrees.(MAE)'.format(np.mean(errors)))\n",
        "    print('MAPE TEST data {:0.2f}'.format(mape))\n",
        "    print('Accuracy = {:0.2f}%. (100-MAPE)'.format(accuracy))\n",
        "    \n",
        "    return accuracy"
      ],
      "execution_count": null,
      "outputs": []
    },
    {
      "cell_type": "code",
      "metadata": {
        "id": "iwU8XZZAFpgm",
        "colab_type": "code",
        "colab": {
          "base_uri": "https://localhost:8080/",
          "height": 102
        },
        "outputId": "4b63ecba-279b-4ccb-885c-850c29dd3cfc"
      },
      "source": [
        "test_accuracy = evaluate(xgb_reg, test_x, test_y)"
      ],
      "execution_count": null,
      "outputs": [
        {
          "output_type": "stream",
          "text": [
            "R2_score: 0.07800998281195548\n",
            "Model Performance\n",
            "Average Error: 0.4916 degrees.(MAE)\n",
            "MAPE TEST data 8.46\n",
            "Accuracy = 91.54%. (100-MAPE)\n"
          ],
          "name": "stdout"
        }
      ]
    },
    {
      "cell_type": "markdown",
      "metadata": {
        "id": "TwkNSnh6d1JE",
        "colab_type": "text"
      },
      "source": [
        "**RIDGE**\n"
      ]
    },
    {
      "cell_type": "code",
      "metadata": {
        "id": "jF14WFKmFpIF",
        "colab_type": "code",
        "colab": {
          "base_uri": "https://localhost:8080/",
          "height": 170
        },
        "outputId": "38b70f35-4179-49ff-8975-ab52ccfc0d10"
      },
      "source": [
        "from sklearn.linear_model import Lasso\n",
        "from sklearn.linear_model import Ridge\n",
        "from sklearn.model_selection import GridSearchCV\n",
        "\n",
        "parameters={'alpha' : [1e-15,1e-10,1e-5,1,5,10,20,17],'max_iter': [5,10,15,1,2]}\n",
        "rr = Ridge()\n",
        "rr_m = GridSearchCV(rr, parameters, cv = 10)\n",
        "rr_m.fit(train_x, train_y)"
      ],
      "execution_count": null,
      "outputs": [
        {
          "output_type": "execute_result",
          "data": {
            "text/plain": [
              "GridSearchCV(cv=10, error_score=nan,\n",
              "             estimator=Ridge(alpha=1.0, copy_X=True, fit_intercept=True,\n",
              "                             max_iter=None, normalize=False, random_state=None,\n",
              "                             solver='auto', tol=0.001),\n",
              "             iid='deprecated', n_jobs=None,\n",
              "             param_grid={'alpha': [1e-15, 1e-10, 1e-05, 1, 5, 10, 20, 17],\n",
              "                         'max_iter': [5, 10, 15, 1, 2]},\n",
              "             pre_dispatch='2*n_jobs', refit=True, return_train_score=False,\n",
              "             scoring=None, verbose=0)"
            ]
          },
          "metadata": {
            "tags": []
          },
          "execution_count": 69
        }
      ]
    },
    {
      "cell_type": "code",
      "metadata": {
        "id": "ajrWJehJd33j",
        "colab_type": "code",
        "colab": {
          "base_uri": "https://localhost:8080/",
          "height": 34
        },
        "outputId": "ab517189-9509-4974-ae03-ca3e45686efb"
      },
      "source": [
        "rr_m.best_params_"
      ],
      "execution_count": null,
      "outputs": [
        {
          "output_type": "execute_result",
          "data": {
            "text/plain": [
              "{'alpha': 20, 'max_iter': 5}"
            ]
          },
          "metadata": {
            "tags": []
          },
          "execution_count": 70
        }
      ]
    },
    {
      "cell_type": "code",
      "metadata": {
        "id": "YDsmRtPBef0H",
        "colab_type": "code",
        "colab": {
          "base_uri": "https://localhost:8080/",
          "height": 51
        },
        "outputId": "72217931-2cc9-4c1e-9ff9-2893091b71e1"
      },
      "source": [
        "rr1 = Ridge(alpha=20,max_iter=5)\n",
        "rr1.fit( train_x, train_y )"
      ],
      "execution_count": null,
      "outputs": [
        {
          "output_type": "execute_result",
          "data": {
            "text/plain": [
              "Ridge(alpha=20, copy_X=True, fit_intercept=True, max_iter=5, normalize=False,\n",
              "      random_state=None, solver='auto', tol=0.001)"
            ]
          },
          "metadata": {
            "tags": []
          },
          "execution_count": 71
        }
      ]
    },
    {
      "cell_type": "code",
      "metadata": {
        "id": "eaSXHikXd37Z",
        "colab_type": "code",
        "colab": {}
      },
      "source": [
        "def evaluate_train(model, train_features, train_labels):\n",
        "    radm_train_pred = pd.DataFrame( { 'actual':  train_labels,\n",
        "                            'predicted': model.predict(train_features)})\n",
        "    r2=r2_score( radm_train_pred.actual, radm_train_pred.predicted )\n",
        "    MAPE_train = np.mean(np.abs(radm_train_pred.actual - radm_train_pred.predicted)/radm_train_pred.actual)*100\n",
        "    MAE_train = mean_absolute_error(radm_train_pred.actual, radm_train_pred.predicted)\n",
        "    accuracy = 100 - MAPE_train\n",
        "    print('Model Performance')\n",
        "    print('R2_score:',r2)\n",
        "    print('Average Error: {:0.4f} degrees.(MAE)'.format(MAE_train))\n",
        "    print('MAPE train data {:0.2f}'.format(MAPE_train))\n",
        "    print('Accuracy = {:0.2f}%. (100-MAPE)'.format(accuracy))\n",
        "    \n",
        "    return accuracy"
      ],
      "execution_count": null,
      "outputs": []
    },
    {
      "cell_type": "code",
      "metadata": {
        "id": "xnPsoVTtd39R",
        "colab_type": "code",
        "colab": {
          "base_uri": "https://localhost:8080/",
          "height": 102
        },
        "outputId": "b2ee815f-6e3b-4a2d-abd6-347afb84d86a"
      },
      "source": [
        "train_accuracy = evaluate_train(rr1, train_x, train_y)"
      ],
      "execution_count": null,
      "outputs": [
        {
          "output_type": "stream",
          "text": [
            "Model Performance\n",
            "R2_score: 0.21739026168389342\n",
            "Average Error: 0.4449 degrees.(MAE)\n",
            "MAPE train data 7.68\n",
            "Accuracy = 92.32%. (100-MAPE)\n"
          ],
          "name": "stdout"
        }
      ]
    },
    {
      "cell_type": "code",
      "metadata": {
        "id": "0ayoSGSuepzG",
        "colab_type": "code",
        "colab": {
          "base_uri": "https://localhost:8080/",
          "height": 102
        },
        "outputId": "9162912b-cb27-41db-dcd1-854028b79dcb"
      },
      "source": [
        "test_accuracy = evaluate(rr1, test_x, test_y)"
      ],
      "execution_count": null,
      "outputs": [
        {
          "output_type": "stream",
          "text": [
            "R2_score: 0.22215067368181396\n",
            "Model Performance\n",
            "Average Error: 0.4470 degrees.(MAE)\n",
            "MAPE TEST data 7.73\n",
            "Accuracy = 92.27%. (100-MAPE)\n"
          ],
          "name": "stdout"
        }
      ]
    },
    {
      "cell_type": "markdown",
      "metadata": {
        "id": "rW7qY1FCfnGJ",
        "colab_type": "text"
      },
      "source": [
        "**LASSO**"
      ]
    },
    {
      "cell_type": "code",
      "metadata": {
        "id": "Icyr32dZepwL",
        "colab_type": "code",
        "colab": {
          "base_uri": "https://localhost:8080/",
          "height": 170
        },
        "outputId": "d9325483-786c-41c1-ebc4-01ee8c4110ca"
      },
      "source": [
        "parameters={'alpha' : [1e-15,1e-10,1e-5,1,5,10,20,17],'max_iter': [5,10,15,1,2]}\n",
        "ll = Lasso()\n",
        "ll_m = GridSearchCV(rr, parameters,scoring='neg_mean_squared_error', cv = 10)\n",
        "ll_m.fit(train_x, train_y)"
      ],
      "execution_count": null,
      "outputs": [
        {
          "output_type": "execute_result",
          "data": {
            "text/plain": [
              "GridSearchCV(cv=10, error_score=nan,\n",
              "             estimator=Ridge(alpha=1.0, copy_X=True, fit_intercept=True,\n",
              "                             max_iter=None, normalize=False, random_state=None,\n",
              "                             solver='auto', tol=0.001),\n",
              "             iid='deprecated', n_jobs=None,\n",
              "             param_grid={'alpha': [1e-15, 1e-10, 1e-05, 1, 5, 10, 20, 17],\n",
              "                         'max_iter': [5, 10, 15, 1, 2]},\n",
              "             pre_dispatch='2*n_jobs', refit=True, return_train_score=False,\n",
              "             scoring='neg_mean_squared_error', verbose=0)"
            ]
          },
          "metadata": {
            "tags": []
          },
          "execution_count": 83
        }
      ]
    },
    {
      "cell_type": "code",
      "metadata": {
        "id": "eKjxZn8vepJx",
        "colab_type": "code",
        "colab": {
          "base_uri": "https://localhost:8080/",
          "height": 34
        },
        "outputId": "a21be288-aef5-4293-e1c5-d049c368866f"
      },
      "source": [
        "ll_m.best_params_"
      ],
      "execution_count": null,
      "outputs": [
        {
          "output_type": "execute_result",
          "data": {
            "text/plain": [
              "{'alpha': 17, 'max_iter': 5}"
            ]
          },
          "metadata": {
            "tags": []
          },
          "execution_count": 84
        }
      ]
    },
    {
      "cell_type": "code",
      "metadata": {
        "id": "zhNP78vdf4Ap",
        "colab_type": "code",
        "colab": {
          "base_uri": "https://localhost:8080/",
          "height": 68
        },
        "outputId": "99808eac-da32-432f-a035-887623e1bddb"
      },
      "source": [
        "ll1 = Lasso(alpha=17,max_iter=5)\n",
        "ll1.fit( train_x, train_y )\n"
      ],
      "execution_count": null,
      "outputs": [
        {
          "output_type": "execute_result",
          "data": {
            "text/plain": [
              "Lasso(alpha=17, copy_X=True, fit_intercept=True, max_iter=5, normalize=False,\n",
              "      positive=False, precompute=False, random_state=None, selection='cyclic',\n",
              "      tol=0.0001, warm_start=False)"
            ]
          },
          "metadata": {
            "tags": []
          },
          "execution_count": 85
        }
      ]
    },
    {
      "cell_type": "code",
      "metadata": {
        "id": "j6hV4URNf3zI",
        "colab_type": "code",
        "colab": {
          "base_uri": "https://localhost:8080/",
          "height": 119
        },
        "outputId": "b6df9ad1-54c2-434a-9e02-7bfe0d709035"
      },
      "source": [
        "evaluate_train(ll1,train_x,train_y)"
      ],
      "execution_count": null,
      "outputs": [
        {
          "output_type": "stream",
          "text": [
            "Model Performance\n",
            "R2_score: 0.006560669216420845\n",
            "Average Error: 0.4971 degrees.(MAE)\n",
            "MAPE train data 8.58\n",
            "Accuracy = 91.42%. (100-MAPE)\n"
          ],
          "name": "stdout"
        },
        {
          "output_type": "execute_result",
          "data": {
            "text/plain": [
              "91.41894182068792"
            ]
          },
          "metadata": {
            "tags": []
          },
          "execution_count": 86
        }
      ]
    },
    {
      "cell_type": "code",
      "metadata": {
        "id": "5_uaTb7HgUNn",
        "colab_type": "code",
        "colab": {
          "base_uri": "https://localhost:8080/",
          "height": 119
        },
        "outputId": "c3f6416b-66b2-4b28-e992-fac5809a2de3"
      },
      "source": [
        "evaluate_train(ll1, test_x,test_y)"
      ],
      "execution_count": null,
      "outputs": [
        {
          "output_type": "stream",
          "text": [
            "Model Performance\n",
            "R2_score: 0.00699738259134175\n",
            "Average Error: 0.5053 degrees.(MAE)\n",
            "MAPE train data 8.73\n",
            "Accuracy = 91.27%. (100-MAPE)\n"
          ],
          "name": "stdout"
        },
        {
          "output_type": "execute_result",
          "data": {
            "text/plain": [
              "91.26787419880651"
            ]
          },
          "metadata": {
            "tags": []
          },
          "execution_count": 87
        }
      ]
    }
  ]
}